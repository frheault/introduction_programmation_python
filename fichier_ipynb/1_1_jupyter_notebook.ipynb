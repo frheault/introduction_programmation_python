{
 "cells": [
  {
   "cell_type": "markdown",
   "id": "f2173539-29f3-4921-87b3-eacfabffd148",
   "metadata": {},
   "source": [
    "# Qu'est ce que c'est Python\n",
    "\n",
    "Python est un langage de programmation créé en 1991. Voici quelques points importants à savoir sur Python :\n",
    "\n",
    "- **Très Complet** : Python a beaucoup de bibliothèques standard qui permettent de faire plein de choses différentes.\n",
    "- **Interprété** : Python exécute le code directement sans avoir besoin de le transformer en un autre langage d'abord.\n",
    "- **Multi-Paradigme** : Python permet différents styles de programmation.\n",
    "  - **Programmation Structurée** : Utilise des blocs de code comme `if`, `else`, `while` et des fonctions.\n",
    "  - **Programmation Fonctionnelle** : Utilise des fonctions pour manipuler les données.\n",
    "  - **Programmation Orientée Objet** : Représente des choses (objets) avec leurs propriétés et actions.\n",
    "- **Multi-Plateformes** : Python fonctionne sur différents systèmes d'exploitation comme Windows, Mac et Linux.\n",
    "- **Typage Dynamique Fort** : Python détermine automatiquement le type des données quand on en a besoin.\n",
    "- **Gestion Automatique de la Mémoire** : Python nettoie automatiquement les variables non utilisées.\n",
    "- **Gestion des Exceptions** : Si quelque chose ne va pas dans le programme, Python arrête le code et signale l'erreur."
   ]
  },
  {
   "cell_type": "markdown",
   "id": "a90b0bca-3967-43b2-9c91-d4a93b56a4dc",
   "metadata": {},
   "source": [
    "# Glossaire\n",
    "\n",
    "- **Variables** : Élément du code pouvant prendre et changer de valeur.\n",
    "- **Instancier / Déclarer / Initialiser** : Création d'une nouvelle variable qui sera réutilisée.\n",
    "- **Opérations** : N'importe quelle action pouvant assigner ou modifier une valeur à une variable.\n",
    "- **Type** : Façon d'interpréter des séquences de bits (entier, flottant, chaîne de caractères).\n",
    "- **Tabulation / Indentation** : Espacement permettant à Python d'être structuré et lisible.\n",
    "- **Commentaires** : Lignes de texte dans le code qui ne sont pas exécutées, utilisées pour expliquer le code (`#` pour une ligne, `'''` pour un bloc).\n",
    "- **Conditions** : Une ou plusieurs composantes d'un test logique (`<`, `==`, `AND`, `OR`).\n",
    "- **Boucles** : Structures permettant de répéter une série d'instructions plusieurs fois (`for`, `while`).\n",
    "- **Fonctions** : Un bout de code à exécuter ayant une/des entrées et une/des sorties.\n",
    "- **Arguments / Paramètres** : Ce qu'une fonction prend en entrée.\n",
    "- **Algorithmes** : Un ensemble de blocs logiques (fonctions, boucles, conditions) à exécuter pour accomplir une tâche.\n",
    "- **Itérable** : Tout type de données contenant une série d'éléments navigables (listes, tuples, ensembles).\n",
    "- **Séquences** : Structures de données contenant plusieurs éléments (listes, tuples, ensembles).\n",
    "- **Tableaux / Matrices** : Série d'éléments (itérables), souvent multidimensionnels.\n",
    "- **Built-in** : Inclus dans la distribution standard de Python.\n",
    "- **Importer** : Incorporer du code provenant d'une source externe au fichier courant.\n",
    "- **Modules** : Fichiers contenant du code Python qui peuvent être importés et utilisés dans d'autres programmes.\n",
    "- **Bibliothèques** : Collections de modules offrant des fonctionnalités supplémentaires (par exemple, `numpy` pour les calculs numériques).\n",
    "- **Exceptions** : Mécanisme pour gérer les erreurs et les conditions anormales dans un programme.\n",
    "- **Effet de Bord** : Modification accidentelle d'une variable à l'extérieur d'un scope (bloc logique).\n",
    "- **Classes** : Encapsulation d'un ensemble d'attributs, de fonctions et d'opérations propres à un concept.\n",
    "- **Objets** : Instance d'une classe.\n",
    "- **Comprehensions** : Syntaxe permettant de créer des listes, des dictionnaires ou des ensembles de manière concise.\n",
    "- **Decorateurs** : Fonctions modifiant le comportement d'autres fonctions ou méthodes.\n",
    "- **Générateurs** : Fonctions qui renvoient un itérateur et permettent de parcourir une séquence de valeurs.\n",
    "- **Contexte (context manager)** : Syntaxe (`with` statement) permettant de gérer des ressources (fichiers, connexions, etc.) de manière sûre et efficace."
   ]
  },
  {
   "cell_type": "markdown",
   "id": "da294e9e-4014-46ec-b02f-4a0feb39aa23",
   "metadata": {},
   "source": [
    "# C'est quoi Jupyter-Notebook\n",
    "\n",
    "Jupyter Notebook est un outil interactif qui permet de combiner du code, des textes explicatifs, des visualisations et des équations mathématiques au sein d'un même document. C'est un environnement idéal pour les étudiants qui débutent en informatique. Voici quelques avantages pédagogiques de Jupyter Notebook :\n",
    "\n",
    "- **Interaction en Temps Réel** : Les étudiants peuvent exécuter des blocs de code indépendamment et voir immédiatement les résultats. Cela favorise une compréhension approfondie et immédiate des concepts appris.\n",
    "\n",
    "- **Documentation et Apprentissage Intégrés** : En plus du code, les étudiants peuvent ajouter des explications détaillées, des images et des graphiques. Cela aide à documenter le raisonnement derrière chaque étape de leur travail.\n",
    "\n",
    "- **Visualisation des Données** : Avec des bibliothèques comme Matplotlib et Seaborn, les étudiants peuvent créer des visualisations de données complexes. Cela renforce la compréhension des données et des algorithmes.\n",
    "\n",
    "- **Facilité de Partage** : Les notebooks peuvent être facilement partagés entre étudiants et enseignants. Cela favorise la collaboration et l'échange de connaissances.\n",
    "\n",
    "- **Support Multilingue** : Jupyter Notebook supporte de nombreux langages de programmation, y compris Python, R, et Julia, ce qui en fait un outil polyvalent pour divers besoins académiques.\n",
    "\n",
    "L'utilisation de Jupyter Notebook dans l'enseignement de l'informatique permet de rendre l'apprentissage plus interactif, visuel et collaboratif. C'est un excellent moyen de stimuler l'intérêt et l'engagement des étudiants débutants."
   ]
  },
  {
   "cell_type": "code",
   "execution_count": null,
   "id": "d03d046e-b4e1-45bf-9abd-6552ff2c65a3",
   "metadata": {},
   "outputs": [],
   "source": []
  }
 ],
 "metadata": {
  "kernelspec": {
   "display_name": "Python 3 (ipykernel)",
   "language": "python",
   "name": "python3"
  },
  "language_info": {
   "codemirror_mode": {
    "name": "ipython",
    "version": 3
   },
   "file_extension": ".py",
   "mimetype": "text/x-python",
   "name": "python",
   "nbconvert_exporter": "python",
   "pygments_lexer": "ipython3",
   "version": "3.11.6"
  }
 },
 "nbformat": 4,
 "nbformat_minor": 5
}
