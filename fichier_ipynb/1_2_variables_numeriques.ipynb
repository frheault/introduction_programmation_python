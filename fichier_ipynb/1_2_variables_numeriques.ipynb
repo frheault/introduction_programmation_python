{
 "cells": [
  {
   "cell_type": "markdown",
   "id": "bcc520be-e532-4ec4-860e-9c9f7ada8565",
   "metadata": {},
   "source": [
    "# Comment naviguer ?\n",
    "Chaque cellule contient soit du texte, soit du code. Il est toujours important d'exécuter les cellules dans l'ordre. Pour se faire, cliquer sur la première contenant du code plus bas et cliquer sur le symbole 'Play' (triangle) pour exécuter la cellule.\n",
    "\n",
    "Je vous suggère d'exécuter les cellules les unes après les autres, et de modifier le code lorsqu'un commentaire indique qu'il est important de modifier le code pour mieux comprendre.\n",
    "\n",
    "La fonction **print** est crucial pour afficher des résultats, je vais l'expliquer en détails plus tard. Pour l'instant voyez **les utilisations de la fonction **print** comme une façon de voir le résultat d'un calcul pour faciliter le suivi des opérations. Une autre fonction est utile pour l'apprentissage, **type** permet de connaitre la représentation interne d'une variable (à venir)"
   ]
  },
  {
   "cell_type": "code",
   "execution_count": null,
   "id": "7a78810e-01de-409b-b9cf-f8782c2f499f",
   "metadata": {},
   "outputs": [],
   "source": [
    "# Ceci est utile simplement pour l'affichage, exécuter en premier\n",
    "def section(text):\n",
    "    print('\\033[1m{}\\033[0m'.format(text))\n",
    "\n",
    "section('Test Affichage')\n",
    "print('Ceci est un test !')"
   ]
  },
  {
   "cell_type": "code",
   "execution_count": null,
   "id": "e2a5a87c-2196-403b-b101-96eff6aefc5b",
   "metadata": {},
   "outputs": [],
   "source": [
    "section('Opérations de base')\n",
    "# En python les lignes commencant par # seront des commentaires (simple texte, pas réellement du code\n",
    "# En Python toute les opérations de base d'une calculatrice sont possibles \n",
    "print(10 + 4)\n",
    "print(10 - 4)\n",
    "print(10 * 4)\n",
    "print(10 ** 4) # Exposant\n",
    "print(10 / 4)\n",
    "print(10 // 4) # Division entière\n",
    "print(10 % 4) # Modulo (reste d'une division entière"
   ]
  },
  {
   "cell_type": "code",
   "execution_count": null,
   "id": "5ca7fc58-b07a-4ff2-b714-8f562117d020",
   "metadata": {},
   "outputs": [],
   "source": [
    "section('Variables')\n",
    "# L'opérateur = permet de créer une nouvelle variable qui sera réutilisable (initialiser, instancier, déclarer) \n",
    "x = 10\n",
    "y = 4\n",
    "\n",
    "# On peut afficher plus d'une variable à la fois avec la fonction print()\n",
    "print(x, y)\n",
    "\n",
    "# On peut aussi voir la représentation interne de la variable avec la fonction type()\n",
    "print(type(x), type(y))\n",
    "# On voit que les variables x et y sont des 'int' pour integer (entier)\n",
    "\n",
    "# À faire: Changer les valeurs de x et y pour des valeurs de votre choix"
   ]
  },
  {
   "cell_type": "code",
   "execution_count": null,
   "id": "d81db0b4-0f27-4e78-8b2e-75ea50436a18",
   "metadata": {},
   "outputs": [],
   "source": [
    "section('Opérations de base avec des variables')\n",
    "\n",
    "# On peut utiliser les variables pour faires des opérations, comme avec une calculatrice\n",
    "print(x + y)\n",
    "print(x - y)\n",
    "print(x * y)\n",
    "print(x ** y)\n",
    "print(x / y)\n",
    "print(x // y)\n",
    "print(x % y)"
   ]
  },
  {
   "cell_type": "code",
   "execution_count": null,
   "id": "b4d707b4-e01b-4df4-9c77-3f032b4c2f5f",
   "metadata": {},
   "outputs": [],
   "source": [
    "# Les types des variables n'est pas toujours le même que le résultat d'une opération les utilisants\n",
    "# Ici je crée une nouvelle variable (z) et je lui assigne une valeur suivant une opération simple\n",
    "z = (2 * x) + y\n",
    "print(z, type(z))\n",
    "\n",
    "# Ici, en réutilisant z je vais remplacer sa valeur par une nouvelle (overwrite)\n",
    "z = (2 * x) / y\n",
    "print(z, type(z))\n",
    "\n",
    "# Comme vous le voyez 24 est un entier et 5.0 est un 'float' pour floating point (nombre à virgule flottante, réel)"
   ]
  },
  {
   "cell_type": "code",
   "execution_count": null,
   "id": "156f8851-7d92-4f6d-87e5-9cfd59bed237",
   "metadata": {},
   "outputs": [],
   "source": [
    "section('Suivre les valeurs des variables')\n",
    "# Attention les valeurs des variables peuvent évoluer (un peu comme réutiliser z dans le bloc précédent)\n",
    "\n",
    "ma_variable = 17\n",
    "print(ma_variable)\n",
    "\n",
    "# Je peux réutiliser une variable pour faire un calcul et remplacer sa valeur antérieur\n",
    "ma_variable = ma_variable - 1\n",
    "print(ma_variable)\n",
    "\n",
    "# En python, la ligne suivante permet de remplacer une variable de façon concise\n",
    "ma_variable -= 1 # identifique à : ma_variable = ma_variable - 1\n",
    "print(ma_variable)\n",
    "\n",
    "# À faire : Essayer les opérateurs +=, -=, *=, /= ou **="
   ]
  },
  {
   "cell_type": "code",
   "execution_count": null,
   "id": "ed4f92be-5f0c-4941-8000-3737f7761e48",
   "metadata": {},
   "outputs": [],
   "source": [
    "# Il est toujours important d'être capable de suivre les valeurs de nos variables\n",
    "\n",
    "a = 1\n",
    "b = 5\n",
    "\n",
    "a += 1\n",
    "b -= 1\n",
    "c = (a ** b) - 10.0\n",
    "\n",
    "# À faire : Tentez de deviner les valeurs finales de a, b, c\n",
    "# À faire : Utiliser la fonction print() pour afficher les valeurs de a, b, c\n",
    "# À faire : Utiliser la fonction print() et type() pour déterminer si c sera un entier ou un nombre réel"
   ]
  }
 ],
 "metadata": {
  "kernelspec": {
   "display_name": "Python 3 (ipykernel)",
   "language": "python",
   "name": "python3"
  },
  "language_info": {
   "codemirror_mode": {
    "name": "ipython",
    "version": 3
   },
   "file_extension": ".py",
   "mimetype": "text/x-python",
   "name": "python",
   "nbconvert_exporter": "python",
   "pygments_lexer": "ipython3",
   "version": "3.11.6"
  }
 },
 "nbformat": 4,
 "nbformat_minor": 5
}
