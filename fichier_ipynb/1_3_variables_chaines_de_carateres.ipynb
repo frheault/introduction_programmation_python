{
 "cells": [
  {
   "cell_type": "code",
   "execution_count": 1,
   "id": "327140b7-e06f-4aef-8cb2-6c571ce1c4a5",
   "metadata": {},
   "outputs": [],
   "source": [
    "# Ceci est utile simplement pour l'affichage, exécuter en premier\n",
    "def section(text):\n",
    "    print('\\033[1m{}\\033[0m'.format(text))"
   ]
  },
  {
   "cell_type": "code",
   "execution_count": 2,
   "id": "7ea0b230-424e-4257-814a-eac7e4d09990",
   "metadata": {},
   "outputs": [
    {
     "name": "stdout",
     "output_type": "stream",
     "text": [
      "\u001b[1mInstancier des chaines de caractères\u001b[0m\n",
      "Bonjour\n",
      "Salut\n"
     ]
    }
   ],
   "source": [
    "section('Instancier des chaines de caractères')\n",
    "# Utiliser des guillemets simples pour instancier une chaîne de caractères\n",
    "mon_texte1 = 'Bonjour'\n",
    "print(mon_texte1)\n",
    "\n",
    "# Utiliser des guillemets doubles pour instancier une chaîne de caractères\n",
    "mon_texte2 = \"Salut\"\n",
    "print(mon_texte2)\n",
    "\n",
    "# Les guillemets doivent s'ouvrir et se fermer correctement\n",
    "# Les deux exemples suivants sont corrects :\n",
    "correct1 = 'Ceci est une chaîne de caractères'\n",
    "correct2 = \"Ceci est aussi une chaîne de caractères\"\n",
    "\n",
    "# Exemple incorrect - les guillemets ne correspondent pas\n",
    "# incorrect = 'Ceci provoquera une erreur\""
   ]
  },
  {
   "cell_type": "code",
   "execution_count": 3,
   "id": "4d385cae-2a4c-499d-a5ae-1b7303639ff8",
   "metadata": {},
   "outputs": [
    {
     "name": "stdout",
     "output_type": "stream",
     "text": [
      "\u001b[1mManipuler des chaines de caractères\u001b[0m\n",
      "Bonjour tout le monde\n"
     ]
    }
   ],
   "source": [
    "section(\"Manipuler des chaines de caractères\")\n",
    "\n",
    "# Créer plusieurs variables contenant des chaînes de caractères\n",
    "partie1 = \"Bonjour\"\n",
    "partie2 = \"tout\"\n",
    "partie3 = \"le monde\"\n",
    "\n",
    "# Les concaténer (les assembler) en une seule chaîne\n",
    "phrase = partie1 + \" \" + partie2 + \" \" + partie3\n",
    "\n",
    "# Afficher la phrase complète\n",
    "print(phrase)\n",
    "\n",
    "# print(a - b) # Cette ligne provoquera une erreur car l'opération de soustraction n'est pas supportée pour les strings"
   ]
  },
  {
   "cell_type": "code",
   "execution_count": 4,
   "id": "da08b78a-4d10-4267-a74e-97caa85b3091",
   "metadata": {},
   "outputs": [
    {
     "name": "stdout",
     "output_type": "stream",
     "text": [
      "\u001b[1mObtenir des lettres en particulier\u001b[0m\n",
      "P\n",
      "t\n",
      "n\n"
     ]
    }
   ],
   "source": [
    "section(\"Obtenir des lettres en particulier\")\n",
    "mot = \"Python\"\n",
    "\n",
    "# Accéder et afficher le premier caractère\n",
    "print(mot[0])  # Affiche 'P'\n",
    "\n",
    "# Accéder et afficher le troisième caractère\n",
    "print(mot[2])  # Affiche 't'\n",
    "\n",
    "# Afficher le dernier caractère\n",
    "print(mot[-1])  # Affiche 'n'"
   ]
  },
  {
   "cell_type": "code",
   "execution_count": 5,
   "id": "56a16d6c-6b82-4538-b053-34ea0beee1e0",
   "metadata": {},
   "outputs": [
    {
     "name": "stdout",
     "output_type": "stream",
     "text": [
      "\u001b[1mManipulation des chaines\u001b[0m\n",
      "<class 'str'>\n",
      "17\n",
      "P\n",
      "l\n",
      "Python\n",
      "est\n"
     ]
    }
   ],
   "source": [
    "section('Manipulation des chaines')\n",
    "s = \"Python est génial\"\n",
    "\n",
    "# La fonction len() permet d'obtenir la longueur de la chaîne\n",
    "# On dit que le 'retour' de la fonction est la longueur de la chaîne et le type est int\n",
    "print(type(s))\n",
    "print(len(s))\n",
    "\n",
    "# Accéder à un caractère spécifique\n",
    "print(s[0]) # Premier caractère\n",
    "print(s[-1]) # Dernier caractère\n",
    "\n",
    "# Substring (sous-chaîne)\n",
    "print(s[0:6]) # Les 6 premiers caractères\n",
    "print(s[7:10]) # Les caractères de la position 7 à 9"
   ]
  },
  {
   "cell_type": "code",
   "execution_count": 6,
   "id": "7c65982e-b456-4ade-a9a2-ea572f90c2e4",
   "metadata": {},
   "outputs": [
    {
     "name": "stdout",
     "output_type": "stream",
     "text": [
      "\u001b[1mMéthodes des chaines\u001b[0m\n",
      "PYTHON EST GÉNIAL\n",
      "python est génial\n",
      "Python est super\n",
      "7\n"
     ]
    }
   ],
   "source": [
    "section('Méthodes des chaines')\n",
    "# Convertir en majuscule/minuscule\n",
    "print(s.upper())\n",
    "print(s.lower())\n",
    "\n",
    "# Remplacer une partie de la chaîne\n",
    "print(s.replace(\"génial\", \"super\"))\n",
    "\n",
    "# Trouver la position d'une sous-chaîne\n",
    "print(s.find(\"est\"))"
   ]
  },
  {
   "cell_type": "code",
   "execution_count": 7,
   "id": "3bb58a24-d8f8-4dbb-b4dd-4c99cde13e62",
   "metadata": {},
   "outputs": [
    {
     "name": "stdout",
     "output_type": "stream",
     "text": [
      "\u001b[1mFormatage des chaines\u001b[0m\n",
      "Je m'appelle Alice et j'ai 30 ans.\n",
      "Je m'appelle Alice et j'ai 30 ans.\n"
     ]
    }
   ],
   "source": [
    "section('Formatage des chaines')\n",
    "nom = \"Alice\"\n",
    "age = 30\n",
    "\n",
    "# Utilisation de la méthode format\n",
    "print(\"Je m'appelle {} et j'ai {} ans.\".format(nom, age))\n",
    "\n",
    "# Utilisation des f-strings (Python 3.6+) à favoriser\n",
    "print(f\"Je m'appelle {nom} et j'ai {age} ans.\")"
   ]
  },
  {
   "cell_type": "code",
   "execution_count": 8,
   "id": "1ef7c7f1-70ea-481b-bd25-97ebc957495e",
   "metadata": {},
   "outputs": [
    {
     "name": "stdout",
     "output_type": "stream",
     "text": [
      "bonjour\n",
      "BONJOUR\n"
     ]
    }
   ],
   "source": [
    "# Attention certaines opérations doivent être assignées à des variables\n",
    "mot = \"bonjour\"\n",
    "mot.upper()\n",
    "print(mot)\n",
    "\n",
    "# L'opération upper(), tout comme lower() ou replace(), doit être assignée à une variable\n",
    "mot = mot.upper()\n",
    "print(mot)"
   ]
  },
  {
   "cell_type": "code",
   "execution_count": 9,
   "id": "6fc473fc-5f25-4bb2-ba6e-7580994f3179",
   "metadata": {},
   "outputs": [],
   "source": [
    "# À faire : Créez vos propres variables de type string et essayez les différentes méthodes et opérations présentées.\n",
    "# Par exemple:\n",
    "mon_texte = \"Je suis en train d'apprendre Phyton\"\n",
    "typo = \"Phyton\"\n",
    "\n",
    "mon_texte = mon_texte.replace(typo, \"Python\")\n",
    "mon_texte = mon_texte.upper()\n",
    "\n",
    "# Quel sera la valeur de mon_texte ?"
   ]
  },
  {
   "cell_type": "code",
   "execution_count": null,
   "id": "75111ddb-3840-434f-a37e-25bbe539f901",
   "metadata": {},
   "outputs": [],
   "source": []
  }
 ],
 "metadata": {
  "kernelspec": {
   "display_name": "Python 3 (ipykernel)",
   "language": "python",
   "name": "python3"
  },
  "language_info": {
   "codemirror_mode": {
    "name": "ipython",
    "version": 3
   },
   "file_extension": ".py",
   "mimetype": "text/x-python",
   "name": "python",
   "nbconvert_exporter": "python",
   "pygments_lexer": "ipython3",
   "version": "3.11.6"
  }
 },
 "nbformat": 4,
 "nbformat_minor": 5
}
