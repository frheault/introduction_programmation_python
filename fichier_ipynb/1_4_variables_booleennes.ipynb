{
 "cells": [
  {
   "cell_type": "code",
   "execution_count": 1,
   "id": "95af52fd-e44c-4897-80f8-79ebabd89044",
   "metadata": {},
   "outputs": [],
   "source": [
    "# Ceci est utile simplement pour l'affichage, exécuter en premier\n",
    "def section(text):\n",
    "    print('\\033[1m{}\\033[0m'.format(text))"
   ]
  },
  {
   "cell_type": "code",
   "execution_count": 2,
   "id": "ee978ce5-f2ef-4524-8b1c-cfa69dcfdbd2",
   "metadata": {},
   "outputs": [
    {
     "name": "stdout",
     "output_type": "stream",
     "text": [
      "\u001b[1mCréer une variable booléenne\u001b[0m\n",
      "True\n",
      "<class 'bool'>\n"
     ]
    }
   ],
   "source": [
    "section(\"Créer une variable booléenne\")\n",
    "\n",
    "# Créer une variable contenant une valeur booléenne (True ou False)\n",
    "mon_bool = True\n",
    "\n",
    "# Afficher le contenu de la variable\n",
    "print(mon_bool)\n",
    "print(type(mon_bool))\n"
   ]
  },
  {
   "cell_type": "code",
   "execution_count": 3,
   "id": "a4ff637d-43bc-473c-8db9-f2bf838bbe9f",
   "metadata": {},
   "outputs": [
    {
     "name": "stdout",
     "output_type": "stream",
     "text": [
      "\u001b[1mOpérations de base\u001b[0m\n",
      "False\n",
      "True\n",
      "False\n",
      "True\n",
      "True\n"
     ]
    }
   ],
   "source": [
    "section(\"Opérations de base\")\n",
    "# Créer des variables booléennes\n",
    "a = True\n",
    "b = False\n",
    "\n",
    "# AND logique\n",
    "print(a and b)  # Résultat : False\n",
    "\n",
    "# OR logique\n",
    "print(a or b)   # Résultat : True\n",
    "\n",
    "# NOT logique\n",
    "print(not a)    # Résultat : False\n",
    "print(not b)    # Résultat : True\n",
    "\n",
    "# Combinaisons d'opérateurs logiques\n",
    "print((a and b) or (not b))  # Résultat : True"
   ]
  },
  {
   "cell_type": "code",
   "execution_count": 4,
   "id": "35b16835-1fec-4ec6-897d-1c6d224f6d06",
   "metadata": {},
   "outputs": [
    {
     "name": "stdout",
     "output_type": "stream",
     "text": [
      "\u001b[1mComparer des entiers (ou des nombres réels\u001b[0m\n",
      "True\n",
      "False\n",
      "False\n",
      "True\n",
      "True\n",
      "False\n"
     ]
    }
   ],
   "source": [
    "section(\"Comparer des entiers (ou des nombres réels\")\n",
    "# Créer des variables pour les comparaisons\n",
    "x = 10\n",
    "y = 5\n",
    "\n",
    "# Plus grand que\n",
    "print(x > y)   # Résultat : True\n",
    "\n",
    "# Plus petit que\n",
    "print(x < y)   # Résultat : False\n",
    "\n",
    "# Égal à\n",
    "print(x == y)  # Résultat : False\n",
    "\n",
    "# Différent de\n",
    "print(x != y)  # Résultat : True\n",
    "\n",
    "# Plus grand ou égal à\n",
    "print(x >= y)  # Résultat : True\n",
    "\n",
    "# Plus petit ou égal à\n",
    "print(x <= y)  # Résultat : False"
   ]
  },
  {
   "cell_type": "code",
   "execution_count": 5,
   "id": "8703f959-e929-49d6-afec-6b39c2fac8fd",
   "metadata": {},
   "outputs": [],
   "source": [
    "# À faire : Créez vos propres variables booléennes et essayez les différentes opérations logiques et comparaisons.\n",
    "# Par exemple :\n",
    "# a = (10 >= 5)\n",
    "# b = (5 < 3)\n",
    "# print(a and b)\n",
    "# print(a or b)\n",
    "# print(not a)\n",
    "# print((a and b) or (not b))\n"
   ]
  },
  {
   "cell_type": "code",
   "execution_count": 6,
   "id": "1bae69bf-f9cb-48d4-acb0-a8b9ec5cafd4",
   "metadata": {},
   "outputs": [
    {
     "name": "stdout",
     "output_type": "stream",
     "text": [
      "\u001b[1mComparer des chaines de caractères\u001b[0m\n",
      "False\n",
      "True\n",
      "True\n",
      "False\n",
      "False\n",
      "True\n",
      "True\n",
      "True\n"
     ]
    }
   ],
   "source": [
    "section(\"Comparer des chaines de caractères\")\n",
    "texte1 = \"Bonjour\"\n",
    "texte2 = \"Python\"\n",
    "texte3 = \"Bonjour\"\n",
    "\n",
    "# Comparer les chaînes de caractères\n",
    "print(texte1 == texte2)  # Résultat : False (Bonjour n'est pas égal à Python)\n",
    "print(texte1 == texte3)  # Résultat : True (Bonjour est égal à Bonjour)\n",
    "\n",
    "# Utiliser les comparaisons dans des expressions logiques\n",
    "print(texte1 != texte2)  # Résultat : True (Bonjour est différent de Python)\n",
    "print(texte1 != texte3)  # Résultat : False (Bonjour n'est pas différent de Bonjour)\n",
    "\n",
    "# Comparer les chaînes selon l'ordre lexicographique (ordre alphabétique)\n",
    "print(texte1 > texte2)  # Résultat : False (Bonjour vient avant Python)\n",
    "print(texte1 < texte2)  # Résultat : True (Bonjour vient avant Python)\n",
    "\n",
    "# Combiner des comparaisons avec des opérateurs logiques\n",
    "print((texte1 == texte3) and (texte2 != texte3))  # Résultat : True (les deux conditions sont vraies)\n",
    "print((texte1 == texte2) or (texte1 == texte3))  # Résultat : True (au moins une des conditions est vraie)\n"
   ]
  },
  {
   "cell_type": "code",
   "execution_count": 7,
   "id": "c6709571-6715-4472-8b86-46abe741f35d",
   "metadata": {},
   "outputs": [],
   "source": [
    "# À faire : Créez vos propres chaînes de caractères et essayez les différentes comparaisons et combinaisons logiques.\n",
    "# Par exemple :\n",
    "# string1 = \"Hello\"\n",
    "# string2 = \"World\"\n",
    "# string3 = \"Hello\"\n",
    "\n",
    "# print(string1 == string2)\n",
    "# print(string1 != string2)\n",
    "# print(string1 == string3)\n",
    "# print((string1 == string2) or (string1 == string3))\n",
    "# print((string1 != string2) and (string1 == string3))"
   ]
  }
 ],
 "metadata": {
  "kernelspec": {
   "display_name": "Python 3 (ipykernel)",
   "language": "python",
   "name": "python3"
  },
  "language_info": {
   "codemirror_mode": {
    "name": "ipython",
    "version": 3
   },
   "file_extension": ".py",
   "mimetype": "text/x-python",
   "name": "python",
   "nbconvert_exporter": "python",
   "pygments_lexer": "ipython3",
   "version": "3.11.6"
  }
 },
 "nbformat": 4,
 "nbformat_minor": 5
}
