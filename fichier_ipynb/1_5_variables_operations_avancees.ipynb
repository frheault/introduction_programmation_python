{
 "cells": [
  {
   "cell_type": "code",
   "execution_count": 1,
   "id": "b309e43c-a7a0-4c1a-be8f-2c1ae82f50fb",
   "metadata": {},
   "outputs": [],
   "source": [
    "def section(text):\n",
    "    print('\\033[1m{}\\033[0m'.format(text))"
   ]
  },
  {
   "cell_type": "code",
   "execution_count": 2,
   "id": "e6c09519-d28e-40c0-8142-0d6f129b0e96",
   "metadata": {},
   "outputs": [
    {
     "name": "stdout",
     "output_type": "stream",
     "text": [
      "\u001b[1mAttention avec les nombres à virgule flottante\u001b[0m\n",
      "True\n",
      "True\n",
      "0.0001319468914507713\n",
      "5.551115123125783e-17\n",
      "0.30000000000000004 0.1\n"
     ]
    }
   ],
   "source": [
    "section('Attention avec les nombres à virgule flottante')\n",
    "import math as m\n",
    "\n",
    "# Vous pouvez utiliser la notation scientifique\n",
    "print(1.15e-3 == 0.00115)\n",
    "print(12.5e4 == 125000)\n",
    "\n",
    "RAYON_MM = 2.1e-3\n",
    "EPSILON = 10e-6\n",
    "surface_cm2 = 2 * RAYON_MM * m.pi / 100\n",
    "print(surface_cm2)\n",
    "\n",
    "print(0.1 + 0.2 - 0.3)\n",
    "print(0.2 + 0.1, 0.2 - 0.1)\n"
   ]
  },
  {
   "cell_type": "code",
   "execution_count": 3,
   "id": "0a767b8e-2ace-42e1-b197-c440a1b1622b",
   "metadata": {},
   "outputs": [],
   "source": [
    "# À faire : Devinez le résultat ? True or False\n",
    "# À faire : Afficher le résultat\n",
    "résultat = 0.2 + 0.1 == 0.3\n",
    "\n",
    "# La comparaison de 'float' n'est pas recommandé, utilisez plutot cette methode\n",
    "# Au lieu de vérifier si les valeurs sont égales, regardez si leur soustraction sont proche de zéros\n",
    "# print(abs((0.2 + 0.1) - 0.3) < EPSILON)\n",
    "\n",
    "# Devinez le résultat ? True or False\n",
    "# print(1e16 + 1 == 1e16)\n",
    "# print(int(1e16) + 1 == 1e16)\n",
    "# print(int(1e16) + 1.0 == 1e16)\n"
   ]
  },
  {
   "cell_type": "code",
   "execution_count": 4,
   "id": "7ec6b390-154c-459f-8948-943a000e63ec",
   "metadata": {},
   "outputs": [
    {
     "name": "stdout",
     "output_type": "stream",
     "text": [
      "\u001b[1mAttention à l'ordre des opérations\u001b[0m\n",
      "11\n",
      "11\n",
      "11\n",
      "11\n",
      "11\n",
      "11\n"
     ]
    }
   ],
   "source": [
    "section('Attention à l\\'ordre des opérations')\n",
    "a, b, c, d, e = 5, -6, 4, -1, 2\n",
    "print(a - b + c // 2 + d * e)\n",
    "\n",
    "# Lequel de ces opérations seront égales, quel sera le résultat ?\n",
    "print(a - b + (c // 2) + d * e)\n",
    "print(a - b + (c // 2) + (d * e))\n",
    "print((a - b) + (c // 2) + (d * e))\n",
    "print(((a - b) + (c // 2)) + (d * e))\n",
    "print((((a - b) + (c // 2)) + (d * e)))\n"
   ]
  },
  {
   "cell_type": "code",
   "execution_count": 5,
   "id": "53fcee73-e693-41f8-b649-d80943ce4c0d",
   "metadata": {},
   "outputs": [
    {
     "name": "stdout",
     "output_type": "stream",
     "text": [
      "\u001b[1mConvertir des Types de Données\u001b[0m\n",
      "Le nombre entier est: 123\n",
      "Le nombre entier à partir du flottant est: 45\n"
     ]
    }
   ],
   "source": [
    "section(\"Convertir des Types de Données\")\n",
    "\n",
    "# Définir une chaîne de caractères représentant un nombre\n",
    "str_nombre = \"123\"\n",
    "\n",
    "# Convertir la chaîne en entier (parfois nommé casting / cast)\n",
    "int_nombre = int(str_nombre)\n",
    "print(f\"Le nombre entier est: {int_nombre}\")\n",
    "\n",
    "# Convertir un nombre flottant en entier\n",
    "float_nombre = 45.67\n",
    "int_flottant = int(float_nombre)\n",
    "print(f\"Le nombre entier à partir du flottant est: {int_flottant}\")\n",
    "\n",
    "# Convertir un entier en chaîne (essayer de print() le résultat)\n",
    "str_nombre = str(int_nombre)\n",
    "# Convertir un int en float\n",
    "float_nombre = float(int_nombre)\n",
    "# Convertir un bool en float\n",
    "float_nombre = float(True)\n",
    "\n",
    "# Que sera le résultat ?\n",
    "# print(str(True), str(False))\n",
    "# print(int(True), int(False))\n",
    "# print(float(17), float(0))\n",
    "\n",
    "\n",
    "\n"
   ]
  },
  {
   "cell_type": "code",
   "execution_count": 6,
   "id": "721517f3-4bd7-4c53-a1bd-b97ef6d4fc2e",
   "metadata": {},
   "outputs": [
    {
     "name": "stdout",
     "output_type": "stream",
     "text": [
      "\u001b[1mCalculer le Périmètre d'un Cercle\u001b[0m\n",
      "Le périmètre du cercle est: 43.982297150257104\n"
     ]
    }
   ],
   "source": [
    "section(\"Calculer le Périmètre d'un Cercle\")\n",
    "\n",
    "import math # À venir plus tard\n",
    "\n",
    "# Définir le rayon du cercle\n",
    "rayon = 7\n",
    "\n",
    "# Calculer le périmètre\n",
    "perimetre = 2 * math.pi * rayon\n",
    "\n",
    "# Afficher le périmètre\n",
    "print(f\"Le périmètre du cercle est: {perimetre}\")\n"
   ]
  },
  {
   "cell_type": "code",
   "execution_count": 7,
   "id": "46ae2b81-da10-4d7e-a29e-ddc794a94378",
   "metadata": {},
   "outputs": [
    {
     "name": "stdout",
     "output_type": "stream",
     "text": [
      "\u001b[1mVérifier si une Chaîne Contient un Mot\u001b[0m\n",
      "La phrase contient 'génial': True\n",
      "La phrase contient 'difficile': False\n"
     ]
    }
   ],
   "source": [
    "section(\"Vérifier si une Chaîne Contient un Mot\")\n",
    "\n",
    "# Définir une chaîne de caractères\n",
    "phrase = \"Python est génial\"\n",
    "\n",
    "# Vérifier si la chaîne contient le mot \"génial\"\n",
    "contient_genial = \"génial\" in phrase\n",
    "print(f\"La phrase contient 'génial': {contient_genial}\")\n",
    "\n",
    "# Vérifier si la chaîne contient le mot \"difficile\"\n",
    "contient_difficile = \"difficile\" in phrase\n",
    "print(f\"La phrase contient 'difficile': {contient_difficile}\")\n"
   ]
  },
  {
   "cell_type": "code",
   "execution_count": 8,
   "id": "3a77971f-ad26-42cd-bb38-10b277df9d87",
   "metadata": {},
   "outputs": [
    {
     "name": "stdout",
     "output_type": "stream",
     "text": [
      "\u001b[1mComparer Deux Nombres\u001b[0m\n",
      "15 est plus grand que 20: False\n",
      "15 est plus petit que 20: True\n",
      "15 est égal à 20: False\n"
     ]
    }
   ],
   "source": [
    "section(\"Comparer Deux Nombres\")\n",
    "\n",
    "# Définir deux nombres\n",
    "a = 15\n",
    "b = 20\n",
    "\n",
    "# Comparer les nombres et afficher les résultats\n",
    "print(f\"{a} est plus grand que {b}: {a > b}\")\n",
    "print(f\"{a} est plus petit que {b}: {a < b}\")\n",
    "print(f\"{a} est égal à {b}: {a == b}\")\n"
   ]
  },
  {
   "cell_type": "code",
   "execution_count": 9,
   "id": "41413e78-950a-4ff7-a5d4-0646b3dec490",
   "metadata": {},
   "outputs": [
    {
     "name": "stdout",
     "output_type": "stream",
     "text": [
      "\u001b[1mCalcul de l'Aire d'un Rectangle\u001b[0m\n",
      "L'aire du rectangle est: 50\n"
     ]
    }
   ],
   "source": [
    "section(\"Calcul de l'Aire d'un Rectangle\")\n",
    "\n",
    "# Définir les dimensions du rectangle\n",
    "longueur = 10\n",
    "largeur = 5\n",
    "\n",
    "# Calculer l'aire\n",
    "aire = longueur * largeur\n",
    "\n",
    "# Afficher l'aire\n",
    "print(f\"L'aire du rectangle est: {aire}\")\n"
   ]
  },
  {
   "cell_type": "code",
   "execution_count": 10,
   "id": "9db2571f-c355-43f2-957b-3c0d2b3cdee6",
   "metadata": {},
   "outputs": [
    {
     "name": "stdout",
     "output_type": "stream",
     "text": [
      "\u001b[1mUtilisation de Fonctions et Variables Booléennes\u001b[0m\n",
      "4 est pair: True\n",
      "7 est pair: False\n"
     ]
    }
   ],
   "source": [
    "section(\"Utilisation de Fonctions et Variables Booléennes\")\n",
    "\n",
    "# Utiliser la fonction et afficher le résultat\n",
    "nombre = 4\n",
    "is_pair = nombre % 2 == 0\n",
    "print(f\"{nombre} est pair: {is_pair}\")\n",
    "\n",
    "# Tester avec un autre nombre\n",
    "nombre = 7\n",
    "is_pair = nombre % 2 == 0\n",
    "print(f\"{nombre} est pair: {is_pair}\")\n"
   ]
  },
  {
   "cell_type": "code",
   "execution_count": null,
   "id": "59f057f0-dc3d-4102-b29c-39535cd43418",
   "metadata": {},
   "outputs": [],
   "source": []
  }
 ],
 "metadata": {
  "kernelspec": {
   "display_name": "Python 3 (ipykernel)",
   "language": "python",
   "name": "python3"
  },
  "language_info": {
   "codemirror_mode": {
    "name": "ipython",
    "version": 3
   },
   "file_extension": ".py",
   "mimetype": "text/x-python",
   "name": "python",
   "nbconvert_exporter": "python",
   "pygments_lexer": "ipython3",
   "version": "3.11.6"
  }
 },
 "nbformat": 4,
 "nbformat_minor": 5
}
