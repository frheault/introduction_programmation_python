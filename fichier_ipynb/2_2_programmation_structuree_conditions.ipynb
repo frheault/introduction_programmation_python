{
 "cells": [
  {
   "cell_type": "code",
   "execution_count": 1,
   "id": "ebd315b7-e760-4f5b-b171-5d32d9b95733",
   "metadata": {},
   "outputs": [],
   "source": [
    "def section(text):\n",
    "    print('\\033[1m{}\\033[0m'.format(text))"
   ]
  },
  {
   "cell_type": "code",
   "execution_count": 2,
   "id": "f02ba6d6-ea8a-455c-a69c-8eb11f0307ec",
   "metadata": {},
   "outputs": [
    {
     "name": "stdout",
     "output_type": "stream",
     "text": [
      "\u001b[1mIntroduction aux Conditions IF\u001b[0m\n"
     ]
    }
   ],
   "source": [
    "section('Introduction aux Conditions IF')\n",
    "valeur = -120\n",
    "\n",
    "# Utiliser une condition IF pour vérifier si la valeur est divisible par 12\n",
    "if valeur % 12 != 0:\n",
    "    print('Not divisible by 12')\n",
    "\n",
    "# Le mot clé if permet d'ensuite évaluer une condition, suivi d'un : pour terminer la ligne\n",
    "# Une indentation / tabulation / 4 espaces permet de définir un bloc qui sera optionellement executé si la condition est vrai"
   ]
  },
  {
   "cell_type": "code",
   "execution_count": 3,
   "id": "5674cace-a8d4-44b1-9764-1f4c961bfdac",
   "metadata": {},
   "outputs": [],
   "source": [
    "a = -10\n",
    "\n",
    "if a < 0:\n",
    "    a *= -1\n",
    "    a += 3\n",
    "a += 2\n",
    "\n",
    "# À faire : quelle sera la valeur final de a ? Faite un print() pour confirmer\n",
    "# À faire : essayer de changer la valeur de a à 10, quelle sera la valeur finale de a ?"
   ]
  },
  {
   "cell_type": "code",
   "execution_count": 4,
   "id": "f2b0be49-9d9f-4173-987b-b4acc4d49a25",
   "metadata": {},
   "outputs": [
    {
     "name": "stdout",
     "output_type": "stream",
     "text": [
      "\u001b[1mConditions IF/ELSE\u001b[0m\n",
      "Divisible by 10\n"
     ]
    }
   ],
   "source": [
    "section('Conditions IF/ELSE')\n",
    "\n",
    "valeur = -120\n",
    "\n",
    "# Utiliser une condition IF/ELSE pour vérifier si la valeur est divisible par 10\n",
    "if valeur % 10:\n",
    "    print('Not Divisible by 10')\n",
    "else:\n",
    "    print('Divisible by 10')\n"
   ]
  },
  {
   "cell_type": "code",
   "execution_count": 5,
   "id": "9207a7f0-abf9-466d-a186-de849d9f83b2",
   "metadata": {},
   "outputs": [
    {
     "name": "stdout",
     "output_type": "stream",
     "text": [
      "\u001b[1mConditions IF/ELIF/ELSE\u001b[0m\n",
      "Small Number...\n",
      "-120 est negatif\n"
     ]
    }
   ],
   "source": [
    "section('Conditions IF/ELIF/ELSE')\n",
    "\n",
    "# Utiliser une condition IF/ELIF/ELSE pour catégoriser la valeur\n",
    "if valeur > 100: # Condition tester en premier\n",
    "    print('Big Number!')\n",
    "elif valeur < 1: # Si la première condition est fausse, test celle-ci\n",
    "    print('Small Number...')\n",
    "else: # Si la condition ci-dessus (elif) est fausse, le bloc suivant est executé\n",
    "    print('Medium Number.')\n",
    "\n",
    "valeur = -120\n",
    "\n",
    "if valeur < 0: # La première condition est vrai, donc ce bloc s'exécute\n",
    "    print(f'{valeur} est negatif') \n",
    "elif valeur % 12 == 0: # Ce bloc ne sera donc pas executé\n",
    "    print(f'{valeur} est divisible par 12')\n"
   ]
  },
  {
   "cell_type": "code",
   "execution_count": 6,
   "id": "a3325f0f-a61f-4bfc-9197-6fcab4db0bbc",
   "metadata": {},
   "outputs": [
    {
     "name": "stdout",
     "output_type": "stream",
     "text": [
      "\u001b[1mExemple Avancé\u001b[0m\n",
      "One is Negative!\n"
     ]
    }
   ],
   "source": [
    "section('Exemple Avancé')\n",
    "\n",
    "# Déclarer deux variables\n",
    "num_1, num_2 = -18, -10\n",
    "\n",
    "# Vérifier si une ou les deux variables sont négatives\n",
    "if num_1 < 0 or num_2 < 0:\n",
    "    print('One is Negative!')\n",
    "elif num_1 < 0 and num_2 < 0:\n",
    "    print('Both are Negative!')\n",
    "# Pourquoi ce code ne fonctionne-t-il pas comme prévu ?"
   ]
  },
  {
   "cell_type": "code",
   "execution_count": null,
   "id": "dc6d051e-d357-4038-ab5c-1bbca6b19ef5",
   "metadata": {},
   "outputs": [],
   "source": []
  }
 ],
 "metadata": {
  "kernelspec": {
   "display_name": "Python 3 (ipykernel)",
   "language": "python",
   "name": "python3"
  },
  "language_info": {
   "codemirror_mode": {
    "name": "ipython",
    "version": 3
   },
   "file_extension": ".py",
   "mimetype": "text/x-python",
   "name": "python",
   "nbconvert_exporter": "python",
   "pygments_lexer": "ipython3",
   "version": "3.11.6"
  }
 },
 "nbformat": 4,
 "nbformat_minor": 5
}
