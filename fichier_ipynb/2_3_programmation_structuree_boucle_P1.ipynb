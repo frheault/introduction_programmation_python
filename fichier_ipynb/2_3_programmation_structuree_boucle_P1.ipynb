{
 "cells": [
  {
   "cell_type": "code",
   "execution_count": 1,
   "id": "ebd315b7-e760-4f5b-b171-5d32d9b95733",
   "metadata": {},
   "outputs": [],
   "source": [
    "def section(text):\n",
    "    print('\\033[1m{}\\033[0m'.format(text))"
   ]
  },
  {
   "cell_type": "code",
   "execution_count": 2,
   "id": "f02ba6d6-ea8a-455c-a69c-8eb11f0307ec",
   "metadata": {},
   "outputs": [
    {
     "name": "stdout",
     "output_type": "stream",
     "text": [
      "\u001b[1mConditions pour des itérations\u001b[0m\n",
      "1\n",
      "2\n",
      "3\n",
      "4\n",
      "5\n"
     ]
    }
   ],
   "source": [
    "section('Conditions pour des itérations')\n",
    "\n",
    "# Les boucles while permettent d'exécuter un bloc de code tant qu'une condition spécifiée est vraie.\n",
    "# Le bloc de code sera répété jusqu'à ce que la condition devienne fausse.\n",
    "\n",
    "# Imprimez i tant que i est inférieur à 6:\n",
    "i = 1\n",
    "while i < 6:\n",
    "    print(i)\n",
    "    i += 1\n",
    "\n",
    "# À faire: Utilisez une boucle while pour imprimer les valeurs de 1 à 50 pour des multiples de 5."
   ]
  },
  {
   "cell_type": "code",
   "execution_count": 3,
   "id": "5674cace-a8d4-44b1-9764-1f4c961bfdac",
   "metadata": {},
   "outputs": [
    {
     "name": "stdout",
     "output_type": "stream",
     "text": [
      "1\n"
     ]
    }
   ],
   "source": [
    "# Cette boucle sera infinie (elle ne s'arrêtera jamais), pourquoi ?\n",
    "i = 1\n",
    "while i < 6:\n",
    "    print(i)"
   ]
  },
  {
   "cell_type": "code",
   "execution_count": 4,
   "id": "f2b0be49-9d9f-4173-987b-b4acc4d49a25",
   "metadata": {},
   "outputs": [
    {
     "name": "stdout",
     "output_type": "stream",
     "text": [
      "\u001b[1mLe mot clé break\u001b[0m\n",
      "H\n",
      "e\n",
      "l\n",
      "l\n",
      "o\n",
      ",\n"
     ]
    }
   ],
   "source": [
    "section('Le mot clé break')\n",
    "\n",
    "# Faire une boucle sur le nombre de caractères d'une chaîne de caractères et arrêter la boucle si le caractère est un espace\n",
    "texte = 'Hello, World!'\n",
    "i = 0\n",
    "while i < len(texte):\n",
    "    if texte[i] == ' ':\n",
    "        break\n",
    "    print(texte[i])\n",
    "    i += 1\n",
    "\n",
    "# Le mot clé break va arrêter l'exécution de la boucle et sortir du bloc de code."
   ]
  },
  {
   "cell_type": "code",
   "execution_count": 5,
   "id": "9207a7f0-abf9-466d-a186-de849d9f83b2",
   "metadata": {},
   "outputs": [
    {
     "name": "stdout",
     "output_type": "stream",
     "text": [
      "\u001b[1mLe mot clé continue\u001b[0m\n",
      "1\n",
      "2\n",
      "4\n",
      "5\n",
      "7\n",
      "8\n",
      "10\n",
      "11\n"
     ]
    }
   ],
   "source": [
    "section('Le mot clé continue')\n",
    "\n",
    "# Afficher les nombres non divisibles par 3\n",
    "i = 0\n",
    "while i < 12:\n",
    "    i += 1\n",
    "    if i % 3 == 0:\n",
    "        continue\n",
    "    print(i)\n",
    "\n",
    "# Le mot clé continue va arrêter l'exécution du bloc de code actuel et passer à l'itération suivante."
   ]
  },
  {
   "cell_type": "code",
   "execution_count": 6,
   "id": "a3325f0f-a61f-4bfc-9197-6fcab4db0bbc",
   "metadata": {},
   "outputs": [
    {
     "name": "stdout",
     "output_type": "stream",
     "text": [
      "\u001b[1mBoucle While pour Compter les Voyelles\u001b[0m\n",
      "Nombre de voyelles : 3\n"
     ]
    }
   ],
   "source": [
    "# Typiquement, les boucles while sont utilisées lorsqu'on ne sait pas combien de fois la boucle doit être exécutée.\n",
    "# On utilise souvent la variable de contrôle i pour compter le nombre d'itérations.\n",
    "\n",
    "section('Boucle While pour Compter les Voyelles')\n",
    "\n",
    "# À faire : Utilisez une boucle while pour compter le nombre de voyelles dans une chaîne de caractères\n",
    "texte = \"Python est amusant\"\n",
    "voyelles = \"aeiouy\"\n",
    "\n",
    "i = 0 # Initialisation de la variable de contrôle\n",
    "compteur = 0 # Initialisation du compteur\n",
    "\n",
    "texte = text.lower()\n",
    "while i < len(text):\n",
    "    if text[i] in voyelles: # Est-ce que le caractère est une voyelle ?\n",
    "        compteur += 1\n",
    "    i += 1\n",
    "\n",
    "print(f\"Nombre de voyelles : {compteur}\") # Affichage formaté\n"
   ]
  },
  {
   "cell_type": "code",
   "execution_count": null,
   "id": "dc6d051e-d357-4038-ab5c-1bbca6b19ef5",
   "metadata": {},
   "outputs": [
    {
     "name": "stdout",
     "output_type": "stream",
     "text": [
      "\u001b[1mCalculer la Somme des Nombres Positifs\u001b[0m\n"
     ]
    }
   ],
   "source": [
    "section('Calculer la Somme des Nombres Positifs')\n",
    "\n",
    "# Initialiser la somme et demander la première entrée de l'utilisateur\n",
    "somme = 0\n",
    "valeur = int(input(\"Entrez un nombre (négatif pour arrêter) : \"))\n",
    "# Le mot clé input() permet de demander une entrée à l'utilisateur (retourne un str)\n",
    "# La fonction int() permet de convertir la chaîne de caractères en un entier (cast)\n",
    "\n",
    "# Utiliser une boucle while pour continuer à demander des nombres jusqu'à ce qu'un nombre négatif soit entré\n",
    "while valeur >= 0:\n",
    "    somme += valeur\n",
    "    valeur = int(input(\"Entrez un nombre (négatif pour arrêter) : \"))\n",
    "\n",
    "# Afficher la somme des nombres positifs\n",
    "print(\"La somme des nombres positifs est :\", somme)\n"
   ]
  }
 ],
 "metadata": {
  "kernelspec": {
   "display_name": "Python 3 (ipykernel)",
   "language": "python",
   "name": "python3"
  },
  "language_info": {
   "codemirror_mode": {
    "name": "ipython",
    "version": 3
   },
   "file_extension": ".py",
   "mimetype": "text/x-python",
   "name": "python",
   "nbconvert_exporter": "python",
   "pygments_lexer": "ipython3",
   "version": "3.11.6"
  }
 },
 "nbformat": 4,
 "nbformat_minor": 5
}
