{
 "cells": [
  {
   "cell_type": "code",
   "execution_count": 1,
   "metadata": {},
   "outputs": [],
   "source": [
    "def section(text):\n",
    "    print('\\033[1m{}\\033[0m'.format(text))"
   ]
  },
  {
   "cell_type": "code",
   "execution_count": 2,
   "metadata": {},
   "outputs": [
    {
     "name": "stdout",
     "output_type": "stream",
     "text": [
      "\u001b[1mCréer et Identifier une Liste\u001b[0m\n",
      "Type de ma_liste: <class 'list'>\n",
      "Longueur de ma_liste: 5\n"
     ]
    }
   ],
   "source": [
    "section('Créer et Identifier une Liste')\n",
    "\n",
    "# Créer une liste de nombres\n",
    "ma_liste = [1, 2, 3, 4, 5]\n",
    "\n",
    "# Utiliser type() pour vérifier le type de la variable\n",
    "print(\"Type de ma_liste:\", type(ma_liste))\n",
    "\n",
    "# Utiliser len() pour obtenir la longueur de la liste\n",
    "print(\"Longueur de ma_liste:\", len(ma_liste))\n"
   ]
  },
  {
   "cell_type": "code",
   "execution_count": 3,
   "metadata": {},
   "outputs": [
    {
     "name": "stdout",
     "output_type": "stream",
     "text": [
      "\u001b[1mAccéder aux Éléments d'une Liste\u001b[0m\n",
      "Premier fruit: pomme\n",
      "Deuxième fruit: banane\n",
      "Dernier fruit: cerise\n"
     ]
    }
   ],
   "source": [
    "section('Accéder aux Éléments d\\'une Liste')\n",
    "\n",
    "# Créer une liste de fruits\n",
    "fruits = [\"pomme\", \"banane\", \"cerise\"]\n",
    "\n",
    "# Accéder au premier élément\n",
    "print(\"Premier fruit:\", fruits[0])\n",
    "\n",
    "# Accéder au deuxième élément\n",
    "print(\"Deuxième fruit:\", fruits[1])\n",
    "\n",
    "# Accéder au dernier élément\n",
    "print(\"Dernier fruit:\", fruits[-1])\n"
   ]
  },
  {
   "cell_type": "code",
   "execution_count": 4,
   "metadata": {},
   "outputs": [
    {
     "name": "stdout",
     "output_type": "stream",
     "text": [
      "\u001b[1mUtiliser if/else avec des Listes\u001b[0m\n",
      "Le premier nombre est inférieur ou égal à 10\n"
     ]
    }
   ],
   "source": [
    "section('Utiliser if/else avec des Listes')\n",
    "\n",
    "# Créer une liste de nombres\n",
    "nombres = [5, 15, 25, 35, 45]\n",
    "\n",
    "# Vérifier si le premier élément est supérieur à 10\n",
    "if nombres[0] > 10:\n",
    "    print(\"Le premier nombre est supérieur à 10\")\n",
    "else:\n",
    "    print(\"Le premier nombre est inférieur ou égal à 10\")\n"
   ]
  },
  {
   "cell_type": "code",
   "execution_count": 5,
   "metadata": {},
   "outputs": [
    {
     "name": "stdout",
     "output_type": "stream",
     "text": [
      "\u001b[1mUtiliser une Boucle While pour Parcourir une Liste\u001b[0m\n",
      "Nombre à l'index 0 : 1\n",
      "Nombre à l'index 1 : 2\n",
      "Nombre à l'index 2 : 4\n",
      "Nombre à l'index 3 : 8\n",
      "Nombre à l'index 4 : 16\n",
      "Nombre à l'index 5 : 32\n",
      "Nombre à l'index 6 : 64\n",
      "Nombre à l'index 7 : 128\n",
      "Nombre à l'index 8 : 256\n",
      "Nombre à l'index 9 : 512\n"
     ]
    }
   ],
   "source": [
    "section('Utiliser une Boucle While pour Parcourir une Liste')\n",
    "\n",
    "# Créer une liste de nombres\n",
    "nombres = [1, 2, 4, 8, 16, 32, 64, 128, 256, 512]\n",
    "\n",
    "# Initialiser un index\n",
    "i = 0\n",
    "\n",
    "# Utiliser une boucle while pour parcourir et imprimer chaque élément\n",
    "while i < len(nombres):\n",
    "    print(\"Nombre à l'index\", i, \":\", nombres[i])\n",
    "    i += 1\n"
   ]
  },
  {
   "cell_type": "code",
   "execution_count": 6,
   "metadata": {},
   "outputs": [
    {
     "name": "stdout",
     "output_type": "stream",
     "text": [
      "\u001b[1mListes avec Différents Types d'Éléments\u001b[0m\n",
      "Élément à l'index 0: 1 (type: <class 'int'>)\n",
      "  Est un nombre!\n",
      "Élément à l'index 1: Bonjour (type: <class 'str'>)\n",
      "Élément à l'index 2: 3.14 (type: <class 'float'>)\n",
      "  Est un nombre!\n",
      "Élément à l'index 3: True (type: <class 'bool'>)\n",
      "  Est un nombre!\n",
      "Élément à l'index 4: ['a', 'b', 'c'] (type: <class 'list'>)\n",
      "Élément à l'index 5: 5 (type: <class 'int'>)\n",
      "  Est un nombre!\n",
      "Élément à l'index 6: 10 (type: <class 'int'>)\n",
      "  Est un nombre!\n"
     ]
    }
   ],
   "source": [
    "section('Listes avec Différents Types d\\'Éléments')\n",
    "\n",
    "# Créer une liste avec des types différents\n",
    "elements_mixes = [1, \"Bonjour\", 3.14, True, [\"a\", \"b\", \"c\"], 5, 10]\n",
    "\n",
    "# Utiliser une boucle while pour parcourir et imprimer chaque élément et son type\n",
    "i = 0\n",
    "while i < len(elements_mixes):\n",
    "    print(f\"Élément à l'index {i}: {elements_mixes[i]} (type: {type(elements_mixes[i])})\")\n",
    "    if isinstance(elements_mixes[i], int) or isinstance(elements_mixes[i], float):\n",
    "        print(\"  Est un nombre!\")\n",
    "    i += 1\n"
   ]
  },
  {
   "cell_type": "code",
   "execution_count": 7,
   "metadata": {},
   "outputs": [
    {
     "name": "stdout",
     "output_type": "stream",
     "text": [
      "\u001b[1mModifier les Éléments d'une Liste avec une Boucle While\u001b[0m\n",
      "Liste après modifications: [False, True, False, True, False, True, False, True, False, True]\n"
     ]
    }
   ],
   "source": [
    "section('Modifier les Éléments d\\'une Liste avec une Boucle While')\n",
    "\n",
    "# Créer une liste de nombres\n",
    "nombres = [1, 2, 3, 4, 5, 6, 7, 8, 9, 10]\n",
    "\n",
    "# Initialiser un index\n",
    "i = 0\n",
    "\n",
    "# Utiliser une boucle while pour parcourir la liste\n",
    "while i < len(nombres):\n",
    "    if nombres[i] % 2 == 0:\n",
    "        # Si le nombre est pair, mettre True\n",
    "        nombres[i] = True\n",
    "    else:\n",
    "        # Si le nombre est impair, mettre False\n",
    "        nombres[i] = False\n",
    "    i += 1\n",
    "\n",
    "# Imprimer la liste après modifications\n",
    "print(\"Liste après modifications:\", nombres)\n"
   ]
  },
  {
   "cell_type": "code",
   "execution_count": 8,
   "metadata": {},
   "outputs": [
    {
     "name": "stdout",
     "output_type": "stream",
     "text": [
      "\u001b[1mFonctions Utiles pour les Listes\u001b[0m\n",
      "Liste après append(10): [3, 6, 1, 9, 6, 3, 8, 6, 10]\n",
      "Dernier élément après pop(): 10\n",
      "Liste après pop(): [3, 6, 1, 9, 6, 3, 8, 6]\n",
      "Liste après remove(6): [3, 1, 9, 6, 3, 8, 6]\n",
      "Index de la première occurrence de 3: 0\n",
      "Nombre d'occurrences de 6: 2\n",
      "Liste après sort(): [1, 3, 3, 6, 6, 8, 9]\n",
      "Liste après reverse(): [9, 8, 6, 6, 3, 3, 1]\n"
     ]
    }
   ],
   "source": [
    "section('Fonctions Utiles pour les Listes')\n",
    "\n",
    "# Créer une liste d'exemple\n",
    "ma_liste = [3, 6, 1, 9, 6, 3, 8, 6]\n",
    "\n",
    "# Ajouter un élément à la fin de la liste\n",
    "ma_liste.append(10)\n",
    "print(\"Liste après append(10):\", ma_liste)\n",
    "\n",
    "# Supprimer et retourner le dernier élément de la liste\n",
    "dernier_element = ma_liste.pop()\n",
    "print(\"Dernier élément après pop():\", dernier_element)\n",
    "print(\"Liste après pop():\", ma_liste)\n",
    "\n",
    "# Supprimer la première occurrence d'un élément\n",
    "ma_liste.remove(6)\n",
    "print(\"Liste après remove(6):\", ma_liste)\n",
    "\n",
    "# Trouver l'index de la première occurrence d'un élément\n",
    "index_de_3 = ma_liste.index(3)\n",
    "print(\"Index de la première occurrence de 3:\", index_de_3)\n",
    "\n",
    "# Compter le nombre d'occurrences d'un élément\n",
    "nombre_de_6 = ma_liste.count(6)\n",
    "print(\"Nombre d'occurrences de 6:\", nombre_de_6)\n",
    "\n",
    "# Trier la liste en ordre croissant\n",
    "ma_liste.sort()\n",
    "print(\"Liste après sort():\", ma_liste)\n",
    "\n",
    "# Inverser l'ordre des éléments de la liste\n",
    "ma_liste.reverse()\n",
    "print(\"Liste après reverse():\", ma_liste)\n"
   ]
  }
 ],
 "metadata": {
  "kernelspec": {
   "display_name": "Python 3 (ipykernel)",
   "language": "python",
   "name": "python3"
  },
  "language_info": {
   "codemirror_mode": {
    "name": "ipython",
    "version": 3
   },
   "file_extension": ".py",
   "mimetype": "text/x-python",
   "name": "python",
   "nbconvert_exporter": "python",
   "pygments_lexer": "ipython3",
   "version": "3.11.6"
  }
 },
 "nbformat": 4,
 "nbformat_minor": 4
}
