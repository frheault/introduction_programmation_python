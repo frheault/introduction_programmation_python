{
 "cells": [
  {
   "cell_type": "code",
   "execution_count": 1,
   "metadata": {},
   "outputs": [],
   "source": [
    "def section(text):\n",
    "    print('\\033[1m{}\\033[0m'.format(text))"
   ]
  },
  {
   "cell_type": "markdown",
   "metadata": {},
   "source": [
    "### Introduction aux Séquences (Itérables) : Listes vs Tuples en Python\n",
    "\n",
    "Les listes et les tuples sont deux types de séquences en Python. Ils partagent de nombreuses similitudes, mais il existe des différences importantes entre eux. Voici des exemples concrets pour introduire les tuples, en comparant avec les listes.\n",
    "\n",
    "#### Différences Clés\n",
    "\n",
    "- **Listes** : Mutables (peuvent être modifiées), définies avec des crochets `[ ]`.\n",
    "- **Tuples** : Immutables (ne peuvent pas être modifiés après leur création), définis avec des parenthèses `( )`.\n"
   ]
  },
  {
   "cell_type": "code",
   "execution_count": 2,
   "metadata": {},
   "outputs": [
    {
     "name": "stdout",
     "output_type": "stream",
     "text": [
      "\u001b[1mCréer et Identifier une Liste et un Tuple\u001b[0m\n",
      "Type de ma_liste: <class 'list'>\n",
      "Type de mon_tuple: <class 'tuple'>\n",
      "Longueur de ma_liste: 5\n",
      "Longueur de mon_tuple: 5\n"
     ]
    }
   ],
   "source": [
    "section('Créer et Identifier une Liste et un Tuple')\n",
    "\n",
    "# Créer une liste de nombres\n",
    "ma_liste = [1, 2, 3, 4, 5]\n",
    "# Créer un tuple de nombres\n",
    "mon_tuple = (1, 2, 3, 4, 5)\n",
    "\n",
    "# Utiliser type() pour vérifier le type de la variable\n",
    "print(\"Type de ma_liste:\", type(ma_liste))\n",
    "print(\"Type de mon_tuple:\", type(mon_tuple))\n",
    "\n",
    "# Utiliser len() pour obtenir la longueur de la liste et du tuple\n",
    "print(\"Longueur de ma_liste:\", len(ma_liste))\n",
    "print(\"Longueur de mon_tuple:\", len(mon_tuple))\n"
   ]
  },
  {
   "cell_type": "code",
   "execution_count": 3,
   "metadata": {},
   "outputs": [
    {
     "name": "stdout",
     "output_type": "stream",
     "text": [
      "\u001b[1mAccéder aux Éléments d'une Liste et d'un Tuple\u001b[0m\n",
      "Premier fruit (liste): pomme\n",
      "Premier fruit (tuple): pomme\n",
      "Dernier fruit (liste): cerise\n",
      "Dernier fruit (tuple): cerise\n"
     ]
    }
   ],
   "source": [
    "section('Accéder aux Éléments d\\'une Liste et d\\'un Tuple')\n",
    "\n",
    "# Créer une liste de fruits\n",
    "fruits_liste = [\"pomme\", \"banane\", \"cerise\"]\n",
    "# Créer un tuple de fruits\n",
    "fruits_tuple = (\"pomme\", \"banane\", \"cerise\")\n",
    "\n",
    "# Accéder au premier élément\n",
    "print(\"Premier fruit (liste):\", fruits_liste[0])\n",
    "print(\"Premier fruit (tuple):\", fruits_tuple[0])\n",
    "\n",
    "# Accéder au dernier élément\n",
    "print(\"Dernier fruit (liste):\", fruits_liste[-1])\n",
    "print(\"Dernier fruit (tuple):\", fruits_tuple[-1])\n"
   ]
  },
  {
   "cell_type": "code",
   "execution_count": 4,
   "metadata": {},
   "outputs": [
    {
     "name": "stdout",
     "output_type": "stream",
     "text": [
      "\u001b[1mUtiliser une Boucle While pour Parcourir une Liste et un Tuple\u001b[0m\n",
      "Éléments du tuple:\n",
      "Nombre à l'index 0 : 10\n",
      "Nombre à l'index 1 : 20\n",
      "Nombre à l'index 2 : 30\n",
      "Nombre à l'index 3 : 40\n",
      "Nombre à l'index 4 : 50\n"
     ]
    }
   ],
   "source": [
    "section('Utiliser une Boucle While pour Parcourir une Liste et un Tuple')\n",
    "\n",
    "nombres_tuple = (10, 20, 30, 40, 50)\n",
    "\n",
    "# Initialiser l'index\n",
    "i = 0\n",
    "\n",
    "# Utiliser une boucle while pour parcourir et imprimer chaque élément du tuple\n",
    "print(\"Éléments du tuple:\")\n",
    "while i < len(nombres_tuple):\n",
    "    print(\"Nombre à l'index\", i, \":\", nombres_tuple[i])\n",
    "    i += 1\n",
    "\n",
    "# Est-ce qu'il y a une différence entre une liste et un tuple lorsqu'on les parcourt avec une boucle while?"
   ]
  },
  {
   "cell_type": "code",
   "execution_count": 5,
   "metadata": {},
   "outputs": [
    {
     "name": "stdout",
     "output_type": "stream",
     "text": [
      "\u001b[1mAjouter des Éléments à une Liste et Tentative avec un Tuple\u001b[0m\n",
      "Liste après ajouts: [10, 20, 30]\n",
      "Erreur: 'tuple' object has no attribute 'append'\n"
     ]
    }
   ],
   "source": [
    "section('Ajouter des Éléments à une Liste et Tentative avec un Tuple')\n",
    "\n",
    "# Créer une liste vide\n",
    "ma_liste = []\n",
    "\n",
    "# Ajouter des éléments à la liste\n",
    "ma_liste.append(10)\n",
    "ma_liste.append(20)\n",
    "ma_liste.append(30)\n",
    "\n",
    "# Imprimer la liste après les ajouts\n",
    "print(\"Liste après ajouts:\", ma_liste)\n",
    "\n",
    "# Créer un tuple\n",
    "mon_tuple = (10, 20, 30)\n",
    "\n",
    "# Tenter d'ajouter un élément au tuple (ceci provoquera une erreur)\n",
    "# Utiliser try/except pour gérer l'erreur (Sera expliquer dans un prochain cours)\n",
    "try:\n",
    "    mon_tuple.append(40)\n",
    "except AttributeError as e:\n",
    "    print(\"Erreur:\", e)\n"
   ]
  },
  {
   "cell_type": "code",
   "execution_count": 6,
   "metadata": {},
   "outputs": [
    {
     "name": "stdout",
     "output_type": "stream",
     "text": [
      "\u001b[1mImmutabilité des Tuples\u001b[0m\n",
      "Erreur: 'tuple' object does not support item assignment\n"
     ]
    }
   ],
   "source": [
    "section('Immutabilité des Tuples')\n",
    "\n",
    "# Créer un tuple de nombres\n",
    "nombres_tuple = (1, 2, 3, 4, 5)\n",
    "\n",
    "# Tentative de modifier un élément du tuple (ceci provoquera une erreur)\n",
    "try:\n",
    "    nombres_tuple[1] = 10\n",
    "except TypeError as e:\n",
    "    print(\"Erreur:\", e)\n"
   ]
  },
  {
   "cell_type": "code",
   "execution_count": 7,
   "metadata": {},
   "outputs": [
    {
     "name": "stdout",
     "output_type": "stream",
     "text": [
      "\u001b[1mFonctions Utiles pour les Tuples\u001b[0m\n",
      "Index de la première occurrence de 3 dans le tuple: 0\n",
      "Nombre d'occurrences de 6 dans le tuple: 3\n",
      "Tuple après concaténation: (3, 6, 1, 9, 6, 3, 8, 6, 10, 11)\n",
      "Déballage du tuple: 3 6 1 9 6 3 8 6\n"
     ]
    }
   ],
   "source": [
    "section('Fonctions Utiles pour les Tuples')\n",
    "\n",
    "# Créer un tuple d'exemple\n",
    "mon_tuple = (3, 6, 1, 9, 6, 3, 8, 6)\n",
    "\n",
    "# Trouver l'index de la première occurrence d'un élément\n",
    "index_de_3 = mon_tuple.index(3)\n",
    "print(\"Index de la première occurrence de 3 dans le tuple:\", index_de_3)\n",
    "\n",
    "# Compter le nombre d'occurrences d'un élément\n",
    "nombre_de_6 = mon_tuple.count(6)\n",
    "print(\"Nombre d'occurrences de 6 dans le tuple:\", nombre_de_6)\n",
    "\n",
    "# Concaténation de tuples\n",
    "autre_tuple = (10, 11)\n",
    "nouveau_tuple = mon_tuple + autre_tuple\n",
    "print(\"Tuple après concaténation:\", nouveau_tuple)\n",
    "\n",
    "# Déballage de tuple\n",
    "a, b, c, d, e, f, g, h = mon_tuple\n",
    "print(\"Déballage du tuple:\", a, b, c, d, e, f, g, h)\n"
   ]
  }
 ],
 "metadata": {
  "kernelspec": {
   "display_name": "Python 3 (ipykernel)",
   "language": "python",
   "name": "python3"
  },
  "language_info": {
   "codemirror_mode": {
    "name": "ipython",
    "version": 3
   },
   "file_extension": ".py",
   "mimetype": "text/x-python",
   "name": "python",
   "nbconvert_exporter": "python",
   "pygments_lexer": "ipython3",
   "version": "3.11.6"
  }
 },
 "nbformat": 4,
 "nbformat_minor": 4
}
