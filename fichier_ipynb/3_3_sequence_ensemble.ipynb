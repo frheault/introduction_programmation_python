{
 "cells": [
  {
   "cell_type": "code",
   "execution_count": 1,
   "metadata": {},
   "outputs": [],
   "source": [
    "def section(text):\n",
    "    print('\\033[1m{}\\033[0m'.format(text))"
   ]
  },
  {
   "cell_type": "markdown",
   "metadata": {},
   "source": [
    "### Introduction aux Sets en Python\n",
    "\n",
    "Les sets (ensembles) sont des collections non ordonnées d'éléments uniques. Ils sont utiles pour stocker des éléments sans doublons et pour effectuer des opérations mathématiques telles que l'union, l'intersection et la différence. Voici une courte introduction à leur utilité, leur création et leurs utilisations en Python.\n",
    "\n",
    "#### Utilité des Sets\n",
    "\n",
    "- **Éléments Uniques** : Les sets ne contiennent pas de doublons, ce qui est utile pour garantir l'unicité des éléments dans une collection.\n",
    "- **Opérations Mathématiques** : Les sets permettent d'effectuer des opérations telles que l'union, l'intersection et la différence, qui sont couramment utilisées en mathématiques et en traitement de données.\n",
    "- **Recherche Efficace** : La recherche d'éléments dans un set est généralement plus rapide que dans une liste en raison de la manière dont les sets sont implémentés.\n",
    "\n",
    "#### Créer un Set\n",
    "\n",
    "Les sets sont créés en utilisant des accolades `{}` ou la fonction `set()`."
   ]
  },
  {
   "cell_type": "code",
   "execution_count": 2,
   "metadata": {},
   "outputs": [
    {
     "name": "stdout",
     "output_type": "stream",
     "text": [
      "\u001b[1mCréer un Set\u001b[0m\n",
      "Mon set: {1, 2, 3, 4, 5}\n",
      "Set vide: set()\n"
     ]
    }
   ],
   "source": [
    "section('Créer un Set')\n",
    "\n",
    "# Créer un set avec des accolades\n",
    "mon_set = {1, 2, 3, 4, 5}\n",
    "print(\"Mon set:\", mon_set)\n",
    "\n",
    "# Créer un set en utilisant la fonction set()\n",
    "mon_set_vide = set()\n",
    "print(\"Set vide:\", mon_set_vide)\n"
   ]
  },
  {
   "cell_type": "code",
   "execution_count": 3,
   "metadata": {},
   "outputs": [
    {
     "name": "stdout",
     "output_type": "stream",
     "text": [
      "\u001b[1mAjouter des Éléments à un Set\u001b[0m\n",
      "Set après ajout de 4: {1, 2, 3, 4}\n",
      "Set après ajout de 2 (déjà présent): {1, 2, 3, 4}\n"
     ]
    }
   ],
   "source": [
    "section('Ajouter des Éléments à un Set')\n",
    "\n",
    "mon_set = {1, 2, 3}\n",
    "mon_set.add(4)\n",
    "print(\"Set après ajout de 4:\", mon_set)\n",
    "\n",
    "# Ajouter un élément déjà présent n'aura pas d'effet (pas de doublons)\n",
    "mon_set.add(2)\n",
    "print(\"Set après ajout de 2 (déjà présent):\", mon_set)\n"
   ]
  },
  {
   "cell_type": "code",
   "execution_count": 4,
   "metadata": {},
   "outputs": [
    {
     "name": "stdout",
     "output_type": "stream",
     "text": [
      "\u001b[1mVérifier la Présence d'un Élément\u001b[0m\n",
      "True\n",
      "False\n"
     ]
    }
   ],
   "source": [
    "section('Vérifier la Présence d\\'un Élément')\n",
    "\n",
    "print(3 in mon_set)  # True\n",
    "print(5 in mon_set)  # False\n"
   ]
  },
  {
   "cell_type": "code",
   "execution_count": 5,
   "metadata": {},
   "outputs": [
    {
     "name": "stdout",
     "output_type": "stream",
     "text": [
      "\u001b[1mSupprimer des Éléments\u001b[0m\n",
      "Set après suppression de 2: {1, 3, 4}\n",
      "Set après tentative de suppression de 10: {1, 3, 4}\n"
     ]
    }
   ],
   "source": [
    "section('Supprimer des Éléments')\n",
    "\n",
    "mon_set.remove(2)\n",
    "print(\"Set après suppression de 2:\", mon_set)\n",
    "\n",
    "# Utiliser discard() pour éviter l'erreur si l'élément n'existe pas\n",
    "mon_set.discard(10)  # Ne fait rien car 10 n'est pas dans le set\n",
    "print(\"Set après tentative de suppression de 10:\", mon_set)\n"
   ]
  },
  {
   "cell_type": "code",
   "execution_count": 6,
   "metadata": {},
   "outputs": [
    {
     "name": "stdout",
     "output_type": "stream",
     "text": [
      "\u001b[1mOpération booléenne sur les Sets\u001b[0m\n",
      "Union de set1 et set2: {1, 2, 3, 4, 5}\n",
      "Différence de set1 et set2: {1, 2}\n",
      "Intersection de set1 et set2: {3}\n"
     ]
    }
   ],
   "source": [
    "section('Opération booléenne sur les Sets')\n",
    "\n",
    "set1 = {1, 2, 3}\n",
    "set2 = {3, 4, 5}\n",
    "\n",
    "# Union de Sets\n",
    "union_set = set1 | set2\n",
    "print(\"Union de set1 et set2:\", union_set)\n",
    "\n",
    "# Différence de Sets\n",
    "difference_set = set1 - set2\n",
    "print(\"Différence de set1 et set2:\", difference_set)\n",
    "\n",
    "# Intersection de Sets\n",
    "intersection_set = set1 & set2\n",
    "print(\"Intersection de set1 et set2:\", intersection_set)\n",
    "\n"
   ]
  },
  {
   "cell_type": "code",
   "execution_count": null,
   "metadata": {},
   "outputs": [],
   "source": []
  }
 ],
 "metadata": {
  "kernelspec": {
   "display_name": "Python 3 (ipykernel)",
   "language": "python",
   "name": "python3"
  },
  "language_info": {
   "codemirror_mode": {
    "name": "ipython",
    "version": 3
   },
   "file_extension": ".py",
   "mimetype": "text/x-python",
   "name": "python",
   "nbconvert_exporter": "python",
   "pygments_lexer": "ipython3",
   "version": "3.11.6"
  }
 },
 "nbformat": 4,
 "nbformat_minor": 4
}
