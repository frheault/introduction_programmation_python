{
 "cells": [
  {
   "cell_type": "code",
   "execution_count": 1,
   "metadata": {},
   "outputs": [],
   "source": [
    "def section(text):\n",
    "    print('\\033[1m{}\\033[0m'.format(text))"
   ]
  },
  {
   "cell_type": "markdown",
   "metadata": {},
   "source": [
    "### Les Dictionnaires en Python\n",
    "\n",
    "#### Concept\n",
    "\n",
    "Les dictionnaires sont des structures de données en Python qui stockent des paires clé-valeur. Chaque élément d'un dictionnaire est constitué d'une clé unique associée à une valeur. Les clés peuvent être de n'importe quel type immuable (comme des chaînes de caractères, des nombres, ou des tuples), tandis que les valeurs peuvent être de n'importe quel type. Les dictionnaires sont définis à l'aide des accolades `{}`.\n",
    "\n",
    "#### Utilisation\n",
    "\n",
    "Les dictionnaires sont particulièrement utiles pour les situations où vous devez associer des éléments entre eux, par exemple pour stocker des informations sur des étudiants (nom, âge, cours), des produits (nom, prix, quantité), ou tout autre ensemble de données où chaque élément peut être identifié de manière unique par une clé. Ils permettent une recherche rapide et une gestion efficace des données.\n",
    "\n",
    "#### Avantages\n",
    "\n",
    "1. **Accès Rapide** : Les dictionnaires offrent un accès rapide aux valeurs en utilisant les clés. La recherche, l'insertion et la suppression d'éléments sont généralement très rapides grâce à l'implémentation sous-jacente basée sur des tables de hachage.\n",
    "\n",
    "2. **Flexibilité** : Les valeurs dans un dictionnaire peuvent être de n'importe quel type, y compris des listes, des tuples, ou même d'autres dictionnaires, ce qui permet de créer des structures de données complexes.\n",
    "\n",
    "3. **Clarté du Code** : En utilisant des paires clé-valeur, les dictionnaires rendent le code plus lisible et facile à comprendre, car les clés décrivent clairement le rôle des valeurs associées.\n"
   ]
  },
  {
   "cell_type": "code",
   "execution_count": 2,
   "metadata": {},
   "outputs": [
    {
     "name": "stdout",
     "output_type": "stream",
     "text": [
      "\u001b[1mCréation d'un Dictionnaire\u001b[0m\n",
      "Dictionnaire: {'nom': 'Alice', 'âge': 23, 'cours': ['Math', 'Physique', 'Informatique']}\n"
     ]
    }
   ],
   "source": [
    "section('Création d\\'un Dictionnaire')\n",
    "\n",
    "# Créer un dictionnaire vide\n",
    "mon_dictionnaire = {}\n",
    "\n",
    "# Créer un dictionnaire avec des paires clé-valeur\n",
    "info_etudiant = {\n",
    "    \"nom\": \"Alice\",\n",
    "    \"âge\": 23,\n",
    "    \"cours\": [\"Math\", \"Physique\", \"Informatique\"]\n",
    "}\n",
    "\n",
    "print(\"Dictionnaire:\", info_etudiant)\n",
    "\n",
    "# Quel est la différence entre la création d'un set et d'un dictionnaire?"
   ]
  },
  {
   "cell_type": "code",
   "execution_count": 3,
   "metadata": {},
   "outputs": [
    {
     "name": "stdout",
     "output_type": "stream",
     "text": [
      "\u001b[1mAjouter et Modifier des Paires Clé-Valeur\u001b[0m\n",
      "Après ajout: {'nom': 'Alice', 'âge': 23, 'cours': ['Math', 'Physique', 'Informatique'], 'ville': 'Montréal'}\n",
      "Après modification: {'nom': 'Alice', 'âge': 24, 'cours': ['Math', 'Physique', 'Informatique'], 'ville': 'Montréal'}\n"
     ]
    }
   ],
   "source": [
    "section('Ajouter et Modifier des Paires Clé-Valeur')\n",
    "\n",
    "# Ajouter une nouvelle paire clé-valeur\n",
    "info_etudiant[\"ville\"] = \"Montréal\"\n",
    "print(\"Après ajout:\", info_etudiant)\n",
    "\n",
    "# Modifier une valeur existante\n",
    "info_etudiant[\"âge\"] = 24\n",
    "print(\"Après modification:\", info_etudiant)\n"
   ]
  },
  {
   "cell_type": "code",
   "execution_count": 4,
   "metadata": {},
   "outputs": [
    {
     "name": "stdout",
     "output_type": "stream",
     "text": [
      "\u001b[1mMéthodes Utiles : items(), keys(), values()\u001b[0m\n",
      "Paires clé-valeur: dict_items([('nom', 'Alice'), ('âge', 24), ('cours', ['Math', 'Physique', 'Informatique']), ('ville', 'Montréal')])\n",
      "Clés: dict_keys(['nom', 'âge', 'cours', 'ville'])\n",
      "Valeurs: dict_values(['Alice', 24, ['Math', 'Physique', 'Informatique'], 'Montréal'])\n"
     ]
    }
   ],
   "source": [
    "section('Méthodes Utiles : items(), keys(), values()')\n",
    "\n",
    "# Obtenir les paires clé-valeur\n",
    "items = info_etudiant.items()\n",
    "print(\"Paires clé-valeur:\", items)\n",
    "\n",
    "# Obtenir les clés\n",
    "cles = info_etudiant.keys()\n",
    "print(\"Clés:\", cles)\n",
    "\n",
    "# Obtenir les valeurs\n",
    "valeurs = info_etudiant.values()\n",
    "print(\"Valeurs:\", valeurs)\n"
   ]
  },
  {
   "cell_type": "code",
   "execution_count": 5,
   "metadata": {},
   "outputs": [
    {
     "name": "stdout",
     "output_type": "stream",
     "text": [
      "\u001b[1mVérifier la Présence d'une Clé\u001b[0m\n",
      "La clé 'nom' existe dans le dictionnaire\n",
      "La clé 'adresse' n'existe pas dans le dictionnaire\n",
      "Adresse: None\n"
     ]
    }
   ],
   "source": [
    "section('Vérifier la Présence d\\'une Clé')\n",
    "\n",
    "# Vérifier si une clé existe dans le dictionnaire\n",
    "if \"nom\" in info_etudiant:\n",
    "    print(\"La clé 'nom' existe dans le dictionnaire\")\n",
    "\n",
    "if \"adresse\" not in info_etudiant:\n",
    "    print(\"La clé 'adresse' n'existe pas dans le dictionnaire\")\n",
    "\n",
    "# Utiliser la méthode get() pour éviter une erreur si la clé n'existe pas\n",
    "adresse = info_etudiant.get(\"adresse\")\n",
    "print(\"Adresse:\", adresse)\n",
    "\n",
    "# À faire: Essayer d'accéder à une clé qui n'existe pas sans utiliser get()"
   ]
  },
  {
   "cell_type": "code",
   "execution_count": 6,
   "metadata": {},
   "outputs": [
    {
     "name": "stdout",
     "output_type": "stream",
     "text": [
      "\u001b[1mFonctions Utiles pour les Dictionnaires\u001b[0m\n",
      "{'nom': 'Alice', 'âge': 24, 'ville': 'Montréal'}\n",
      "23\n",
      "{'nom': 'Alice'}\n",
      "Non disponible\n",
      "{'nom': 'Alice', 'âge': 24, 'ville': 'Montréal'}\n"
     ]
    }
   ],
   "source": [
    "section('Fonctions Utiles pour les Dictionnaires')\n",
    "\n",
    "dictionnaire = {\"nom\": \"Alice\", \"âge\": 23}\n",
    "mise_a_jour = {\"âge\": 24, \"ville\": \"Montréal\"}\n",
    "dictionnaire.update(mise_a_jour)\n",
    "print(dictionnaire)  # {'nom': 'Alice', 'âge': 24, 'ville': 'Montréal'}\n",
    "\n",
    "dictionnaire = {\"nom\": \"Alice\", \"âge\": 23}\n",
    "# Supprimer une clé existante\n",
    "age = dictionnaire.pop(\"âge\")\n",
    "print(age)  # 23\n",
    "print(dictionnaire)  # {'nom': 'Alice'}\n",
    "# Que ce passe-t-il dans cette opération?\n",
    "\n",
    "# Supprimer une clé inexistante avec une valeur par défaut\n",
    "ville = dictionnaire.pop(\"ville\", \"Non disponible\")\n",
    "print(ville)  # Non disponible\n",
    "\n",
    "dictionnaire = {\"nom\": \"Alice\", \"âge\": 23}\n",
    "mise_a_jour = {\"âge\": 24, \"ville\": \"Montréal\"}\n",
    "dictionnaire.update(mise_a_jour)\n",
    "print(dictionnaire)  # {'nom': 'Alice', 'âge': 24, 'ville': 'Montréal'}\n",
    "\n",
    "# Que se passe-t-il si on utilise la méthode update() avec un dictionnaire vide?\n",
    "# Et avec un dictionnaire ayant des clés différentes?\n"
   ]
  }
 ],
 "metadata": {
  "kernelspec": {
   "display_name": "Python 3 (ipykernel)",
   "language": "python",
   "name": "python3"
  },
  "language_info": {
   "codemirror_mode": {
    "name": "ipython",
    "version": 3
   },
   "file_extension": ".py",
   "mimetype": "text/x-python",
   "name": "python",
   "nbconvert_exporter": "python",
   "pygments_lexer": "ipython3",
   "version": "3.11.6"
  }
 },
 "nbformat": 4,
 "nbformat_minor": 4
}
