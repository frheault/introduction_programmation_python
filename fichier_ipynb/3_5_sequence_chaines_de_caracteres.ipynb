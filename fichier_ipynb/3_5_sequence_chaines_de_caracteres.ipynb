{
 "cells": [
  {
   "cell_type": "code",
   "execution_count": 1,
   "metadata": {},
   "outputs": [],
   "source": [
    "def section(text):\n",
    "    print('\\033[1m{}\\033[0m'.format(text))"
   ]
  },
  {
   "cell_type": "code",
   "execution_count": 2,
   "metadata": {},
   "outputs": [
    {
     "name": "stdout",
     "output_type": "stream",
     "text": [
      "\u001b[1mUtilisation de if in avec les Chaînes de Caractères\u001b[0m\n",
      "La chaîne contient 'Python'\n",
      "La chaîne contient 'amusant'\n"
     ]
    }
   ],
   "source": [
    "section('Utilisation de if in avec les Chaînes de Caractères')\n",
    "\n",
    "# Vérifier si un caractère ou une sous-chaîne est présent dans une chaîne\n",
    "phrase = \"Python est amusant\"\n",
    "if \"Python\" in phrase:\n",
    "    print(\"La chaîne contient 'Python'\")\n",
    "if \"amusant\" in phrase:\n",
    "    print(\"La chaîne contient 'amusant'\")"
   ]
  },
  {
   "cell_type": "code",
   "execution_count": 3,
   "metadata": {},
   "outputs": [
    {
     "name": "stdout",
     "output_type": "stream",
     "text": [
      "\u001b[1mUtilisation de while avec les Chaînes de Caractères\u001b[0m\n",
      "B\n",
      "o\n",
      "n\n",
      "j\n",
      "o\n",
      "u\n",
      "r\n"
     ]
    }
   ],
   "source": [
    "section('Utilisation de while avec les Chaînes de Caractères')\n",
    "\n",
    "# Parcourir une chaîne de caractères avec une boucle while\n",
    "texte = \"Bonjour\"\n",
    "i = 0\n",
    "while i < len(texte):\n",
    "    print(texte[i])\n",
    "    i += 1"
   ]
  },
  {
   "cell_type": "code",
   "execution_count": 4,
   "metadata": {},
   "outputs": [
    {
     "name": "stdout",
     "output_type": "stream",
     "text": [
      "\u001b[1mFonctions Utiles pour les Chaînes de Caractères\u001b[0m\n",
      "Longueur de la chaîne: 49\n",
      "Position de 'génial': 11\n",
      "Nombre d'occurrences de 'Python': 2\n",
      "En majuscules: PYTHON EST GÉNIAL. PYTHON EST FACILE À APPRENDRE.\n",
      "En minuscules: python est génial. python est facile à apprendre.\n",
      "Texte modifié: Python est super. Python est facile à apprendre.\n",
      "Liste des mots: ['Python', 'est', 'génial.', 'Python', 'est', 'facile', 'à', 'apprendre.']\n",
      "Liste des mots (délimité par '.'): ['Python est génial', ' Python est facile à apprendre', '']\n",
      "Chaîne jointe: Python est génial  Python est facile à apprendre \n",
      "Chaîne jointe (délimité par '-': Python est génial- Python est facile à apprendre-\n"
     ]
    }
   ],
   "source": [
    "section('Fonctions Utiles pour les Chaînes de Caractères')\n",
    "\n",
    "texte = \"Python est génial. Python est facile à apprendre.\"\n",
    "\n",
    "# Utiliser len() pour obtenir la longueur de la chaîne\n",
    "print(\"Longueur de la chaîne:\", len(texte))\n",
    "\n",
    "# Utiliser find() pour trouver la position de la première occurrence d'une sous-chaîne\n",
    "position = texte.find(\"génial\")\n",
    "print(\"Position de 'génial':\", position)\n",
    "\n",
    "# Utiliser count() pour compter le nombre d'occurrences d'une sous-chaîne\n",
    "occurrences = texte.count(\"Python\")\n",
    "print(\"Nombre d'occurrences de 'Python':\", occurrences)\n",
    "\n",
    "# Utiliser upper() et lower() pour changer la casse\n",
    "print(\"En majuscules:\", texte.upper())\n",
    "print(\"En minuscules:\", texte.lower())\n",
    "\n",
    "# Utiliser replace() pour remplacer une sous-chaîne par une autre\n",
    "nouveau_texte = texte.replace(\"génial\", \"super\")\n",
    "print(\"Texte modifié:\", nouveau_texte)\n",
    "\n",
    "# Utiliser split() pour diviser la chaîne en une liste de mots\n",
    "mots = texte.split()\n",
    "print(\"Liste des mots:\", mots)\n",
    "\n",
    "# Utiliser split() avec un délimiteur personnalisé pour diviser la chaîne\n",
    "mots = texte.split(\".\")\n",
    "print(\"Liste des mots (délimité par '.'):\", mots)\n",
    "\n",
    "# Utiliser join() pour joindre une liste de mots en une chaîne\n",
    "chaine_join = \" \".join(mots)\n",
    "print(\"Chaîne jointe:\", chaine_join)\n",
    "\n",
    "# On peut aussi utiliser join() avec un délimiteur personnalisé pour joindre les mots\n",
    "chaine_join = \"-\".join(mots)\n",
    "print(\"Chaîne jointe (délimité par '-':\", chaine_join)\n",
    "\n",
    "# À faire : Trouver la position du mot \"de\" dans la phrase suivante\n",
    "phrase = \"Python est un langage de programmation populaire à Sherbrooke\""
   ]
  }
 ],
 "metadata": {
  "kernelspec": {
   "display_name": "Python 3 (ipykernel)",
   "language": "python",
   "name": "python3"
  },
  "language_info": {
   "codemirror_mode": {
    "name": "ipython",
    "version": 3
   },
   "file_extension": ".py",
   "mimetype": "text/x-python",
   "name": "python",
   "nbconvert_exporter": "python",
   "pygments_lexer": "ipython3",
   "version": "3.11.6"
  }
 },
 "nbformat": 4,
 "nbformat_minor": 4
}
