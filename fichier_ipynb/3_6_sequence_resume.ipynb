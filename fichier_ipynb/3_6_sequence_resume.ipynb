{
 "cells": [
  {
   "cell_type": "markdown",
   "metadata": {},
   "source": [
    "### Résumé des Séquences Itérables en Python\n",
    "\n",
    "Les séquences itérables en Python sont des collections d'éléments ordonnées qui permettent de parcourir les éléments un par un. Les principales séquences itérables en Python sont les listes, les tuples, les sets, et les dictionnaires. Chacune a ses caractéristiques et ses usages spécifiques. Voici un résumé de leurs différences et des situations appropriées pour les utiliser.\n",
    "\n",
    "---\n",
    "\n",
    "#### Listes\n",
    "\n",
    "- **Caractéristiques** : \n",
    "  - Mutables (leurs éléments peuvent être modifiés après la création).\n",
    "  - Ordonnées (les éléments ont un ordre défini et peuvent être accédés par leur index).\n",
    "  - Permettent les éléments en double.\n",
    "- **Utilisation Appropriée** :\n",
    "  - Lorsque vous avez besoin d'une collection de données modifiable.\n",
    "  - Pour stocker des éléments en double.\n",
    "  - Pour accéder rapidement aux éléments par leur index.\n",
    "- **Situations Non Appropriées** :\n",
    "  - Lorsque l'immuabilité est nécessaire.\n",
    "  - Pour des recherches extrêmement rapides, où un set pourrait être plus approprié.\n",
    "\n",
    "---\n",
    "\n",
    "#### Tuples\n",
    "\n",
    "- **Caractéristiques** :\n",
    "  - Immutables (leurs éléments ne peuvent pas être modifiés après la création).\n",
    "  - Ordonnés (les éléments ont un ordre défini et peuvent être accédés par leur index).\n",
    "  - Permettent les éléments en double.\n",
    "- **Utilisation Appropriée** :\n",
    "  - Lorsque vous avez besoin d'une collection de données non modifiable.\n",
    "  - Pour les données constantes qui ne doivent pas être changées.\n",
    "  - Lorsque vous voulez utiliser des tuples comme clés dans un dictionnaire (les clés doivent être immuables).\n",
    "- **Situations Non Appropriées** :\n",
    "  - Lorsque vous avez besoin de modifier les éléments après la création.\n",
    "  - Pour des collections de données très dynamiques.\n",
    "\n",
    "---\n",
    "\n",
    "#### Sets\n",
    "\n",
    "- **Caractéristiques** :\n",
    "  - Mutables (leurs éléments peuvent être modifiés après la création), mais leurs éléments doivent être immuables.\n",
    "  - Non ordonnés (les éléments n'ont pas d'ordre défini et ne peuvent pas être accédés par leur index).\n",
    "  - Ne permettent pas les éléments en double (chaque élément est unique).\n",
    "- **Utilisation Appropriée** :\n",
    "  - Lorsque vous avez besoin d'une collection d'éléments uniques.\n",
    "  - Pour les opérations mathématiques comme l'union, l'intersection et la différence.\n",
    "  - Pour des recherches rapides d'existence d'éléments.\n",
    "- **Situations Non Appropriées** :\n",
    "  - Lorsque l'ordre des éléments est important.\n",
    "  - Pour des collections où des éléments en double sont nécessaires.\n",
    "\n",
    "---\n",
    "\n",
    "#### Dictionnaires\n",
    "\n",
    "- **Caractéristiques** :\n",
    "  - Mutables (leurs paires clé-valeur peuvent être modifiées après la création).\n",
    "  - Non ordonnés jusqu'à Python 3.7 (à partir de Python 3.7, les dictionnaires maintiennent l'ordre d'insertion des éléments).\n",
    "  - Ne permettent pas les clés en double (chaque clé est unique, mais les valeurs peuvent être dupliquées).\n",
    "  - Permettent des accès rapides aux valeurs via les clés.\n",
    "- **Utilisation Appropriée** :\n",
    "  - Lorsque vous avez besoin d'associer des paires clé-valeur.\n",
    "  - Pour des recherches rapides basées sur les clés.\n",
    "  - Pour structurer des données de manière plus complexe, comme des configurations ou des enregistrements.\n",
    "- **Situations Non Appropriées** :\n",
    "  - Lorsque vous avez seulement besoin d'une simple liste de valeurs sans clé associée.\n",
    "  - Pour des collections de données où des clés en double sont nécessaires.\n",
    "\n",
    "---\n",
    "\n",
    "### Conclusion\n",
    "\n",
    "Choisir la bonne séquence itérable dépend de la nature des données et des opérations que vous devez effectuer sur elles. Les listes sont flexibles et polyvalentes pour la plupart des besoins généraux. Les tuples sont parfaits pour les collections de données immuables. Les sets sont optimaux pour les collections d'éléments uniques et les opérations mathématiques. Les dictionnaires sont idéaux pour les paires clé-valeur et les recherches rapides. Comprendre ces caractéristiques vous permet de choisir la structure de données la plus appropriée pour chaque situation."
   ]
  },
  {
   "cell_type": "code",
   "execution_count": 1,
   "metadata": {},
   "outputs": [
    {
     "name": "stdout",
     "output_type": "stream",
     "text": [
      "Liste vers Tuple: ('a', 'b', 'c', 'd', 'e', 'e', 'd', 'c', 'b', 'a')\n",
      "Liste vers Set: {'b', 'e', 'a', 'c', 'd'}\n",
      "Liste vers Chaîne: a b c d e e d c b a\n"
     ]
    }
   ],
   "source": [
    "# Les séquences itérables en Python (listes, tuples, sets, str, peuvent être converties\n",
    "# les unes en les autres en utilisant les fonctions de conversion intégrées.\n",
    "#  Voici comment effectuer ces conversions\n",
    "\n",
    "# Liste d'exemple\n",
    "ma_liste = [\"a\", \"b\", \"c\", \"d\", \"e\", \"e\", \"d\", \"c\", \"b\", \"a\"]\n",
    "\n",
    "# Vers Tuple\n",
    "mon_tuple = tuple(ma_liste)\n",
    "print(\"Liste vers Tuple:\", mon_tuple)\n",
    "\n",
    "# Vers Set\n",
    "mon_set = set(ma_liste)\n",
    "print(\"Liste vers Set:\", mon_set)\n",
    "\n",
    "# Combien de \"a\" sont dans la liste et dans le set ? Pourquoi ?\n",
    "\n",
    "# Vers Chaîne\n",
    "ma_chaine = ' '.join(ma_liste)\n",
    "print(\"Liste vers Chaîne:\", ma_chaine)\n"
   ]
  },
  {
   "cell_type": "code",
   "execution_count": 2,
   "metadata": {},
   "outputs": [
    {
     "name": "stdout",
     "output_type": "stream",
     "text": [
      "Tuple vers Liste: [1, 2, 3, 4]\n",
      "Tuple vers Set: {1, 2, 3, 4}\n",
      "Tuple vers Chaîne: 1 2 3 4\n"
     ]
    }
   ],
   "source": [
    "# Tuple d'exemple\n",
    "mon_tuple = (1, 2, 3, 4)\n",
    "\n",
    "# Vers Liste\n",
    "ma_liste = list(mon_tuple)\n",
    "print(\"Tuple vers Liste:\", ma_liste)\n",
    "\n",
    "# Vers Set\n",
    "mon_set = set(mon_tuple)\n",
    "print(\"Tuple vers Set:\", mon_set)\n",
    "\n",
    "# Vers Chaîne\n",
    "# ma_chaine = ' '.join(mon_tuple) # Ne fonctionne pas, pourquoi ?\n",
    "ma_chaine = ' '.join(map(str, mon_tuple))\n",
    "print(\"Tuple vers Chaîne:\", ma_chaine)\n",
    "\n",
    "# Map permet d'appliquer une fonction à chaque élément d'une séquence (magie de Python)\n",
    "# On verra peut-être cela plus tard\n"
   ]
  },
  {
   "cell_type": "code",
   "execution_count": 3,
   "metadata": {},
   "outputs": [
    {
     "name": "stdout",
     "output_type": "stream",
     "text": [
      "Chaîne vers Liste: ['1', '2', '3', '4']\n",
      "Chaîne vers Tuple: ('1', '2', '3', '4')\n",
      "Chaîne vers Set: {'2', '3', '1', '4'}\n"
     ]
    }
   ],
   "source": [
    "# Chaîne d'exemple\n",
    "ma_chaine = \"1234\"\n",
    "\n",
    "# Vers Liste\n",
    "ma_liste = list(ma_chaine)\n",
    "print(\"Chaîne vers Liste:\", ma_liste)\n",
    "\n",
    "# Vers Tuple\n",
    "mon_tuple = tuple(ma_chaine)\n",
    "print(\"Chaîne vers Tuple:\", mon_tuple)\n",
    "\n",
    "# Vers Set\n",
    "mon_set = set(ma_chaine)\n",
    "print(\"Chaîne vers Set:\", mon_set)\n",
    "\n",
    "# À faire : convertir un set en liste, tuple et chaîne de caractères"
   ]
  }
 ],
 "metadata": {
  "kernelspec": {
   "display_name": "Python 3 (ipykernel)",
   "language": "python",
   "name": "python3"
  },
  "language_info": {
   "codemirror_mode": {
    "name": "ipython",
    "version": 3
   },
   "file_extension": ".py",
   "mimetype": "text/x-python",
   "name": "python",
   "nbconvert_exporter": "python",
   "pygments_lexer": "ipython3",
   "version": "3.11.6"
  }
 },
 "nbformat": 4,
 "nbformat_minor": 4
}
