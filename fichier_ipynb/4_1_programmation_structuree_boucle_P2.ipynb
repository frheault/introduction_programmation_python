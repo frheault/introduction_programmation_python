{
 "cells": [
  {
   "cell_type": "code",
   "execution_count": 1,
   "metadata": {},
   "outputs": [],
   "source": [
    "def section(text):\n",
    "    print('\\033[1m{}\\033[0m'.format(text))"
   ]
  },
  {
   "cell_type": "markdown",
   "metadata": {},
   "source": [
    "### Résumé des Boucles `while` vs `for` en Python\n",
    "\n",
    "#### Boucles `while`\n",
    "\n",
    "- **Concept** : La boucle `while` exécute un bloc de code tant qu'une condition spécifiée est vraie. La condition est évaluée avant chaque itération.\n",
    "- **Utilisation** : Utilisée lorsque le nombre d'itérations n'est pas connu à l'avance et dépend de la satisfaction d'une condition.\n",
    "- **Avantages** :\n",
    "  - Flexibilité : Peut être utilisée pour créer des boucles complexes avec des conditions dynamiques.\n",
    "  - Contrôle fin : Permet d'intégrer facilement des instructions de contrôle comme `break` pour arrêter la boucle et `continue` pour sauter à l'itération suivante.\n",
    "- **Inconvénients** :\n",
    "  - Risque de boucles infinies : Si la condition de terminaison n'est jamais satisfaite, la boucle peut devenir infinie.\n",
    "  - Moins lisible : Peut devenir difficile à lire et comprendre si les conditions sont complexes.\n",
    "\n",
    "#### Boucles `for`\n",
    "\n",
    "- **Concept** : La boucle `for` itère sur une séquence (comme une liste, un tuple, un dictionnaire, un set ou une chaîne de caractères) ou un objet itérable, exécutant un bloc de code pour chaque élément.\n",
    "- **Utilisation** : Utilisée lorsque le nombre d'itérations est connu à l'avance ou lorsqu'il s'agit d'itérer sur une collection d'éléments.\n",
    "- **Avantages** :\n",
    "  - Simplicité et lisibilité : Le code est généralement plus simple et plus lisible pour les itérations sur des séquences.\n",
    "  - Moins de risque de boucles infinies : Comme elle itère sur une séquence définie, il y a moins de risque de créer des boucles infinies.\n",
    "  - Compatibilité avec les collections : Optimisée pour les opérations sur les collections de données, avec des structures de contrôle intégrées pour chaque élément.\n",
    "- **Inconvénients** :\n",
    "  - Moins flexible : Moins adaptée pour les boucles où la condition de terminaison dépend de calculs ou de conditions dynamiques.\n",
    "  - Moins de contrôle : Moins de flexibilité pour intégrer des conditions dynamiques au sein de la boucle par rapport à `while`.\n",
    "\n",
    "#### Comparaison et Choix\n",
    "\n",
    "- **Quand utiliser `while`** :\n",
    "  - Lorsque le nombre d'itérations dépend d'une condition dynamique.\n",
    "  - Lorsque vous avez besoin de répéter une action jusqu'à ce qu'une certaine condition soit remplie.\n",
    "  - Pour des boucles complexes avec plusieurs conditions de terminaison.\n",
    "\n",
    "- **Quand utiliser `for`** :\n",
    "  - Lorsque vous devez itérer sur une séquence d'éléments connue à l'avance.\n",
    "  - Pour des opérations simples et répétitives sur des collections de données.\n",
    "  - Lorsque la lisibilité et la simplicité du code sont prioritaires.\n",
    "\n",
    "### Conclusion\n",
    "\n",
    "Les boucles `while` et `for` sont des outils essentiels en programmation, chacun ayant ses propres avantages et inconvénients. Les boucles `while` offrent plus de flexibilité pour les conditions dynamiques et les itérations non déterministes, tandis que les boucles `for` sont optimisées pour la simplicité et la lisibilité lors de l'itération sur des séquences. Choisir la bonne boucle dépend du contexte et des besoins spécifiques de votre programme."
   ]
  },
  {
   "cell_type": "code",
   "execution_count": 2,
   "metadata": {},
   "outputs": [
    {
     "name": "stdout",
     "output_type": "stream",
     "text": [
      "\u001b[1mParcourir une liste d'éléments\u001b[0m\n",
      "pomme\n",
      "banane\n",
      "cerise\n"
     ]
    }
   ],
   "source": [
    "section('Parcourir une liste d\\'éléments')\n",
    "\n",
    "fruits = [\"pomme\", \"banane\", \"cerise\"]\n",
    "# Ici au lieu de créer une variable i pour parcourir la liste,\n",
    "# on parcourt directement les éléments de la liste\n",
    "\n",
    "for fruit in fruits:\n",
    "    print(fruit) # Ne pas oublier l'indentation du bloc (comme if/else et while)\n",
    "\n",
    "# Ici pour rester clair, on utilise le nom de la liste au pluriel\n",
    "# pour indiquer qu'on parcourt une liste d'éléments.\n",
    "# La variable fruit (singulier) contient un élément de la liste durant l'itération (bloc)\n"
   ]
  },
  {
   "cell_type": "code",
   "execution_count": 3,
   "metadata": {},
   "outputs": [
    {
     "name": "stdout",
     "output_type": "stream",
     "text": [
      "\u001b[1mUtiliser range() pour itérer sur une série de nombres\u001b[0m\n",
      "15\n",
      "499500\n"
     ]
    }
   ],
   "source": [
    "section('Utiliser range() pour itérer sur une série de nombres')\n",
    "\n",
    "# Si on veut faire la somme de 1 à 5 avec un for (plutot qu'un while)\n",
    "intervalle = [1, 2, 3, 4, 5]\n",
    "somme = 0\n",
    "for i in intervalle:\n",
    "    somme += i\n",
    "print(somme)\n",
    "\n",
    "# Imaginer la longueur de la liste si on veut faire la somme de 1 à 1000 !\n",
    "# On peut utiliser la fonction range() pour générer une série de nombres\n",
    "somme = 0\n",
    "for i in range(1,1000):\n",
    "    somme += i\n",
    "print(somme)\n"
   ]
  },
  {
   "cell_type": "code",
   "execution_count": 4,
   "metadata": {},
   "outputs": [
    {
     "name": "stdout",
     "output_type": "stream",
     "text": [
      "\u001b[1mParcourir les clés et valeurs d'un dictionnaire\u001b[0m\n",
      "nom: Alice\n",
      "âge: 23\n",
      "ville: Montréal\n"
     ]
    }
   ],
   "source": [
    "section('Parcourir les clés et valeurs d\\'un dictionnaire')\n",
    "\n",
    "info_etudiant = {\n",
    "    \"nom\": \"Alice\",\n",
    "    \"âge\": 23,\n",
    "    \"ville\": \"Montréal\"\n",
    "}\n",
    "for cle, valeur in info_etudiant.items():\n",
    "    print(f\"{cle}: {valeur}\")\n"
   ]
  },
  {
   "cell_type": "code",
   "execution_count": 5,
   "metadata": {},
   "outputs": [
    {
     "name": "stdout",
     "output_type": "stream",
     "text": [
      "\u001b[1mUtilisation avancée avec une liste\u001b[0m\n",
      "Index 0: pomme\n",
      "Index 1: banane\n",
      "Index 2: cerise\n",
      "Index 0: pomme (rouge)\n",
      "Index 1: banane (jaune)\n",
      "Index 2: cerise (rouge)\n"
     ]
    }
   ],
   "source": [
    "section('Utilisation avancée avec une liste')\n",
    "\n",
    "fruits = [\"pomme\", \"banane\", \"cerise\"]\n",
    "for index, fruit in enumerate(fruits):\n",
    "    print(f\"Index {index}: {fruit}\")\n",
    "\n",
    "# On peut aussi utiliser la fonction enumerate() pour obtenir l'index et la valeur\n",
    "# d'une liste en même temps\n",
    "\n",
    "fruits = [\"pomme\", \"banane\", \"cerise\"]\n",
    "couleurs = [\"rouge\", \"jaune\", \"rouge\"]\n",
    "\n",
    "for index in range(len(fruits)):\n",
    "    fruit = fruits[index]\n",
    "    couleur = couleurs[index]\n",
    "    print(f\"Index {index}: {fruit} ({couleur})\")\n",
    "\n",
    "# On peut aussi utiliser la fonction range() pour obtenir l'index\n",
    "# et la valeur de plusieurs listes en même temps"
   ]
  },
  {
   "cell_type": "code",
   "execution_count": 6,
   "metadata": {},
   "outputs": [
    {
     "name": "stdout",
     "output_type": "stream",
     "text": [
      "\u001b[1mUtilisation avec une chaîne de caractères\u001b[0m\n",
      "Index 0: P\n",
      "Index 1: y\n",
      "Index 2: t\n",
      "Index 3: h\n",
      "Index 4: o\n",
      "Index 5: n\n",
      "La lettre 'h' est à la position 3\n",
      "La lettre 'h' est à la position 3\n"
     ]
    }
   ],
   "source": [
    "section('Utilisation avec une chaîne de caractères')\n",
    "\n",
    "mot = \"Python\"\n",
    "for index, lettre in enumerate(mot):\n",
    "    print(f\"Index {index}: {lettre}\")\n",
    "\n",
    "# Imaginer vouloir trouver la position de la lettre 'h' dans le mot 'Python'\n",
    "position = mot.index('h')\n",
    "print(f\"La lettre 'h' est à la position {position}\")\n",
    "\n",
    "# On peut aussi utiliser la fonction enumerate() pour obtenir l'index et la valeur\n",
    "# d'une chaîne de caractères en même temps\n",
    "position = None\n",
    "for index, lettre in enumerate(mot):\n",
    "    if lettre == 'h':\n",
    "        position = index\n",
    "        break\n",
    "print(f\"La lettre 'h' est à la position {position}\")\n",
    "\n",
    "# Il y a plusieurs façons de faire la même chose en programmation !"
   ]
  }
 ],
 "metadata": {
  "kernelspec": {
   "display_name": "Python 3 (ipykernel)",
   "language": "python",
   "name": "python3"
  },
  "language_info": {
   "codemirror_mode": {
    "name": "ipython",
    "version": 3
   },
   "file_extension": ".py",
   "mimetype": "text/x-python",
   "name": "python",
   "nbconvert_exporter": "python",
   "pygments_lexer": "ipython3",
   "version": "3.11.6"
  }
 },
 "nbformat": 4,
 "nbformat_minor": 4
}
