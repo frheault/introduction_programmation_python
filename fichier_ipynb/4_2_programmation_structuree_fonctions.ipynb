{
 "cells": [
  {
   "cell_type": "code",
   "execution_count": 1,
   "metadata": {},
   "outputs": [],
   "source": [
    "def section(text):\n",
    "    print('\\033[1m{}\\033[0m'.format(text))"
   ]
  },
  {
   "cell_type": "markdown",
   "metadata": {},
   "source": [
    "### Les Fonctions en Python\n",
    "\n",
    "#### Écriture des Fonctions\n",
    "\n",
    "Les fonctions en Python sont définies en utilisant le mot-clé `def`, suivi du nom de la fonction, des parenthèses `()`, et d'un deux-points `:`. Le corps de la fonction est ensuite écrit en utilisant une indentation. Les fonctions peuvent prendre des paramètres et retourner des valeurs.\n",
    "\n",
    "1. **Définition de la Fonction** : Utilisez le mot-clé `def`.\n",
    "2. **Nom de la Fonction** : Choisissez un nom descriptif pour la fonction.\n",
    "3. **Paramètres** : Placez les paramètres entre parenthèses après le nom de la fonction.\n",
    "4. **Deux-points** : Ajoutez un deux-points `:` après les parenthèses.\n",
    "5. **Indentation** : Indentez le corps de la fonction pour indiquer le bloc de code qu'elle contient.\n",
    "6. **Retour de Valeur** : Utilisez le mot-clé `return` pour retourner une valeur depuis la fonction (facultatif).\n",
    "\n",
    "#### Utilisation des Fonctions\n",
    "\n",
    "Les fonctions sont utilisées pour encapsuler des blocs de code réutilisables. Elles permettent de structurer le code de manière modulaire, rendant le code plus lisible et plus facile à maintenir. Voici quelques utilisations courantes des fonctions :\n",
    "\n",
    "1. **Réutilisabilité** : Les fonctions permettent de réutiliser le même bloc de code plusieurs fois sans avoir à le réécrire.\n",
    "2. **Modularité** : Les fonctions aident à diviser un programme en morceaux plus petits et plus gérables.\n",
    "3. **Lisibilité** : Les fonctions avec des noms descriptifs rendent le code plus lisible en indiquant clairement ce que chaque partie du code fait.\n",
    "4. **Maintenance** : En regroupant le code dans des fonctions, il devient plus facile de localiser et de corriger les erreurs ou de mettre à jour le code.\n",
    "\n",
    "#### Avantages des Fonctions\n",
    "\n",
    "1. **Abstraction** : Les fonctions permettent de masquer la complexité des opérations et de se concentrer sur un niveau d'abstraction plus élevé.\n",
    "2. **Réduction de la Redondance** : En utilisant des fonctions, vous évitez de répéter le même code à plusieurs endroits dans votre programme.\n",
    "3. **Facilité de Test** : Les fonctions isolent des morceaux de code, ce qui les rend plus faciles à tester et à déboguer individuellement.\n",
    "4. **Encapsulation** : Les fonctions permettent d'encapsuler la logique et les données, ce qui améliore la clarté et l'organisation du code.\n",
    "\n",
    "### Structure d'une Fonction en Python\n",
    "\n",
    "- **Définition** : La déclaration d'une fonction commence par le mot-clé `def`, suivi du nom de la fonction et de la liste des paramètres entre parenthèses.\n",
    "- **Paramètres** : Les paramètres sont des variables qui permettent de passer des données à la fonction. Les paramètres peuvent être optionnels ou obligatoires.\n",
    "- **Corps de la Fonction** : Le corps de la fonction est indente, et contient le code à exécuter lorsque la fonction est appelée.\n",
    "- **Retour de Valeur** : La fonction peut retourner une valeur en utilisant le mot-clé `return`. Si aucune valeur n'est retournée, la fonction retourne `None` par défaut.\n",
    "\n",
    "### Conclusion\n",
    "\n",
    "Les fonctions sont un élément fondamental de la programmation en Python, offrant des avantages significatifs en termes de réutilisabilité, de modularité, de lisibilité et de maintenance du code. En encapsulant des blocs de code dans des fonctions, vous pouvez écrire des programmes plus clairs, plus organisés et plus faciles à gérer."
   ]
  },
  {
   "cell_type": "code",
   "execution_count": 2,
   "metadata": {},
   "outputs": [
    {
     "name": "stdout",
     "output_type": "stream",
     "text": [
      "\u001b[1mFonction sans Paramètre\u001b[0m\n",
      "Bonjour tout le monde !\n"
     ]
    }
   ],
   "source": [
    "section('Fonction sans Paramètre')\n",
    "\n",
    "def saluer():\n",
    "    \"\"\"\n",
    "    Affiche un message de salutation.\n",
    "    \"\"\"\n",
    "    print(\"Bonjour tout le monde !\")\n",
    "\n",
    "# Appel de la fonction\n",
    "saluer()\n"
   ]
  },
  {
   "cell_type": "code",
   "execution_count": 3,
   "metadata": {},
   "outputs": [
    {
     "name": "stdout",
     "output_type": "stream",
     "text": [
      "\u001b[1mFonction avec Paramètres\u001b[0m\n",
      "La somme est: 8\n"
     ]
    }
   ],
   "source": [
    "section('Fonction avec Paramètres')\n",
    "\n",
    "def additionner(a, b):\n",
    "    \"\"\"\n",
    "    Retourne la somme de deux nombres.\n",
    "    \"\"\"\n",
    "    return a + b\n",
    "\n",
    "# Appel de la fonction avec des arguments\n",
    "resultat = additionner(5, 3)\n",
    "print(\"La somme est:\", resultat)\n"
   ]
  },
  {
   "cell_type": "code",
   "execution_count": 4,
   "metadata": {},
   "outputs": [
    {
     "name": "stdout",
     "output_type": "stream",
     "text": [
      "\u001b[1mFonction et scope des variables\u001b[0m\n",
      "in Bonjour tout le monde !\n",
      "out Hello World !\n"
     ]
    }
   ],
   "source": [
    "section('Fonction et scope des variables')\n",
    "\n",
    "def afficher():\n",
    "    # Variable locale\n",
    "    message = \"Bonjour tout le monde !\" # La variable message n'existe qu'à l'intérieur de la fonction\n",
    "    print('in', message)\n",
    "\n",
    "# Appel de la fonction\n",
    "message = \"Hello World !\" # La variable message existe en dehors de la fonction\n",
    "afficher()\n",
    "print('out', message)\n",
    "\n",
    "# Des variables de même nom peuvent exister en dehors et à l'intérieur d'une \n",
    "# fonction sans interférer l'une avec l'autre."
   ]
  },
  {
   "cell_type": "code",
   "execution_count": 5,
   "metadata": {},
   "outputs": [
    {
     "name": "stdout",
     "output_type": "stream",
     "text": [
      "Le résultat est: 8\n",
      "Le résultat est: 1000\n",
      "Le résultat est: 25\n"
     ]
    }
   ],
   "source": [
    "def exposant(x, n):\n",
    "    \"\"\"\n",
    "    Retourne x à la puissance n.\n",
    "    \"\"\"\n",
    "    # Variable locale\n",
    "    resultat = x ** n\n",
    "    return resultat\n",
    "\n",
    "# x, n existe en dehors et à l'intérieur de la fonction sans interférer l'une avec l'autre.\n",
    "x, n = 10, 3\n",
    "resultat = exposant(2, 3)\n",
    "print(\"Le résultat est:\", resultat)\n",
    "\n",
    "# x, n existe en dehors et à l'intérieur de la fonction, mais ici on réutilise les variables x, n\n",
    "# dans l'appel de la fonction.\n",
    "resultat = exposant(x, n)\n",
    "print(\"Le résultat est:\", resultat)\n",
    "\n",
    "# Les noms de variables utilisés dans une fonction n'ont pas besoin d'être les \n",
    "# mêmes que ceux utilisés en dehors de la fonction.\n",
    "a, b = 5, 2\n",
    "resultat = exposant(a, b)\n",
    "print(\"Le résultat est:\", resultat)"
   ]
  },
  {
   "cell_type": "code",
   "execution_count": 6,
   "metadata": {},
   "outputs": [
    {
     "name": "stdout",
     "output_type": "stream",
     "text": [
      "\u001b[1mFonction avec Paramètres Optionnels\u001b[0m\n",
      "Bonjour, Alice !\n",
      "Bonjour, inconnu !\n"
     ]
    }
   ],
   "source": [
    "section('Fonction avec Paramètres Optionnels')\n",
    "\n",
    "def saluer_personne(nom=\"inconnu\"):\n",
    "    \"\"\"\n",
    "    Affiche un message de salutation pour une personne.\n",
    "    \"\"\"\n",
    "    print(f\"Bonjour, {nom} !\")\n",
    "\n",
    "# Appel de la fonction avec et sans argument\n",
    "saluer_personne(\"Alice\")\n",
    "saluer_personne()\n"
   ]
  },
  {
   "cell_type": "code",
   "execution_count": 7,
   "metadata": {},
   "outputs": [
    {
     "name": "stdout",
     "output_type": "stream",
     "text": [
      "\u001b[1mFonction Utilisant une Liste\u001b[0m\n",
      "La somme des éléments de la liste est: 15\n"
     ]
    }
   ],
   "source": [
    "section('Fonction Utilisant une Liste')\n",
    "\n",
    "def somme_liste(liste):\n",
    "    \"\"\"\n",
    "    Retourne la somme des éléments d'une liste.\n",
    "    \"\"\"\n",
    "    somme = 0\n",
    "    for element in liste:\n",
    "        somme += element\n",
    "    return somme\n",
    "\n",
    "# Appel de la fonction avec une liste\n",
    "nombres = [1, 2, 3, 4, 5]\n",
    "somme = somme_liste(nombres)\n",
    "print(\"La somme des éléments de la liste est:\", somme)\n"
   ]
  },
  {
   "cell_type": "code",
   "execution_count": 8,
   "metadata": {},
   "outputs": [
    {
     "name": "stdout",
     "output_type": "stream",
     "text": [
      "\u001b[1mLire du code avec des fonctions, boucle et if/else\u001b[0m\n",
      "---\n",
      "+++\n",
      "Vérification de 289...\n",
      "289 est impair.\n",
      "===\n",
      "***\n",
      "Vérification de 578...\n",
      "578 est pair.\n",
      "===\n",
      "***\n",
      "Vérification de 127.3...\n",
      "127.3 est impair.\n",
      "===\n",
      "***\n",
      "Vérification de 1000.0...\n",
      "1000.0 est pair.\n",
      "===\n",
      "***\n",
      "///\n"
     ]
    }
   ],
   "source": [
    "section('Lire du code avec des fonctions, boucle et if/else')\n",
    "\n",
    "print('---')\n",
    "def est_pair(n):\n",
    "    \"\"\"\n",
    "    Retourne True si n est pair, False sinon.\n",
    "    \"\"\"\n",
    "    print(f\"Vérification de {n}...\")\n",
    "    if n % 2 == 0:\n",
    "        print(f\"{n} est pair.\")\n",
    "    else:\n",
    "        print(f\"{n} est impair.\")\n",
    "    print('===')\n",
    "\n",
    "print('+++')\n",
    "\n",
    "# Appel de la fonction\n",
    "for val in (289, 578, 127.3, 1000.0):\n",
    "    est_pair(val)\n",
    "    print('***')\n",
    "print('///')\n",
    "\n",
    "# Les fonctions permettent de rendre le code plus lisible et plus facile à comprendre.\n",
    "# Elles permettent également de réutiliser du code sans avoir à le réécrire.\n",
    "\n",
    "# Mais il est important de savoir comment lire et dans quel ordre le code est exécuté.\n",
    "\n"
   ]
  }
 ],
 "metadata": {
  "kernelspec": {
   "display_name": "Python 3 (ipykernel)",
   "language": "python",
   "name": "python3"
  },
  "language_info": {
   "codemirror_mode": {
    "name": "ipython",
    "version": 3
   },
   "file_extension": ".py",
   "mimetype": "text/x-python",
   "name": "python",
   "nbconvert_exporter": "python",
   "pygments_lexer": "ipython3",
   "version": "3.11.6"
  }
 },
 "nbformat": 4,
 "nbformat_minor": 4
}
