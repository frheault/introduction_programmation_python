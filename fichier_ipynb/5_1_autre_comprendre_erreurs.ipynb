{
 "cells": [
  {
   "cell_type": "code",
   "execution_count": 1,
   "metadata": {},
   "outputs": [],
   "source": [
    "def section(text):\n",
    "    print('\\033[1m{}\\033[0m'.format(text))"
   ]
  },
  {
   "cell_type": "markdown",
   "metadata": {},
   "source": [
    "### Introduction aux Erreurs, Stack Traces et Débogage pour les Novices en Programmation\n",
    "\n",
    "#### Erreurs en Programmation\n",
    "\n",
    "Les erreurs, ou exceptions, sont des problèmes qui surviennent lors de l'exécution d'un programme. Elles peuvent être causées par des fautes de syntaxe, des erreurs logiques ou des problèmes imprévus, comme des valeurs inattendues ou des conditions non gérées. Comprendre et résoudre ces erreurs est une compétence essentielle pour tout programmeur.\n",
    "\n",
    "#### Types d'Erreurs\n",
    "\n",
    "1. **Erreurs de Syntaxe** : \n",
    "   - Causées par des violations des règles de la syntaxe du langage (par exemple, des parenthèses manquantes).\n",
    "   - Faciles à identifier car elles empêchent le code de s'exécuter.\n",
    "   \n",
    "2. **Erreurs d'Exécution (Runtime Errors)** :\n",
    "   - Se produisent lorsque le programme s'exécute et que quelque chose de non prévu survient (par exemple, division par zéro).\n",
    "   - Plus difficiles à détecter avant l'exécution du code.\n",
    "\n",
    "3. **Erreurs Logiques** :\n",
    "   - Le programme s'exécute sans erreurs, mais le résultat n'est pas celui attendu.\n",
    "   - Causées par une logique incorrecte dans le code.\n",
    "\n",
    "#### Comprendre les Stack Traces\n",
    "\n",
    "Une stack trace est un rapport détaillé généré lorsque une erreur d'exécution se produit. Elle montre la séquence d'appels de fonctions qui ont conduit à l'erreur. Les éléments clés d'une stack trace incluent :\n",
    "\n",
    "1. **Le Message d'Erreur** : Indique le type d'erreur (par exemple, `TypeError`, `ValueError`) et une description de l'erreur.\n",
    "2. **La Liste des Appels de Fonctions** : Montre chaque appel de fonction qui a conduit à l'erreur, en commençant par la plus récente. Chaque entrée inclut le fichier, le numéro de ligne, et le nom de la fonction.\n",
    "\n",
    "#### Trucs pour Régler les Erreurs\n",
    "\n",
    "1. **Lire le Message d'Erreur** :\n",
    "   - Comprenez ce que le message d'erreur indique. Il fournit souvent des indices sur ce qui a mal tourné.\n",
    "\n",
    "2. **Analyser la Stack Trace** :\n",
    "   - Remontez la trace pour voir où l'erreur a commencé. Identifiez le fichier et la ligne de code responsables.\n",
    "\n",
    "3. **Reproduire l'Erreur** :\n",
    "   - Essayez de recréer l'erreur pour comprendre quelles conditions la déclenchent. Cela peut aider à isoler le problème.\n",
    "\n",
    "4. **Ajouter des Impressions (print) ou des Logs** :\n",
    "   - Utilisez des déclarations `print` ou des outils de journalisation pour afficher les valeurs des variables et le flux du programme. Cela peut aider à identifier où le code ne fonctionne pas comme prévu.\n",
    "\n",
    "5. **Simplifier le Code** :\n",
    "   - Réduisez le code à un exemple minimal qui reproduit l'erreur. Cela rend le débogage plus facile."
   ]
  },
  {
   "cell_type": "markdown",
   "metadata": {},
   "source": [
    "#### 1. Erreur de Syntaxe : (SyntaxError)\n",
    "\n",
    "**Exemple** : Oublier les deux-points après une déclaration de condition `if`.\n",
    "\n",
    "```python\n",
    "\n",
    "if True # SyntaxError:\n",
    "    print(\"Réussi !\")\n",
    "```\n",
    "\n",
    "---\n",
    "\n",
    "**Exemple** : Oublier les deux-points après une déclaration de fonction `def`.\n",
    "\n",
    "```python\n",
    "\n",
    "\n",
    "def saluer()\n",
    "    print(\"Bonjour\")\n",
    "```\n",
    "\n",
    "---\n",
    "\n",
    "**Exemple** : Oublier les deux-points après une déclaration de boucle `for`.\n",
    "\n",
    "```python\n",
    "\n",
    "for i in range(5)\n",
    "    print(i)\n",
    "```"
   ]
  },
  {
   "cell_type": "code",
   "execution_count": 2,
   "metadata": {},
   "outputs": [],
   "source": [
    "# À faire : Corriger les (3) erreurs ci-dessus"
   ]
  },
  {
   "cell_type": "markdown",
   "metadata": {},
   "source": [
    "#### 2. Erreur de Syntaxe () [] {}  \"\" '' (SyntaxError)\n",
    "\n",
    "**Exemple** : Apostrophe incorrecte dans une chaîne de caractères.\n",
    "\n",
    "```python\n",
    "\n",
    "texte = 'Ceci est une erreur\"\n",
    "print(texte)\n",
    "```\n",
    "\n",
    "---\n",
    "\n",
    "**Exemple** : Parenthèses non fermés pour une fonction.\n",
    "\n",
    "```python\n",
    "\n",
    "mot = \"Sherbrooke\"\n",
    "longeur = len(mot\n",
    "print(longueur)\n",
    "```\n",
    "\n",
    "---\n",
    "\n",
    "**Exemple** : Crochets non fermés pour une liste.\n",
    "\n",
    "```python\n",
    "\n",
    "ma_liste = [1, 2, 3, 4, 5\n",
    "```"
   ]
  },
  {
   "cell_type": "code",
   "execution_count": 3,
   "metadata": {},
   "outputs": [],
   "source": [
    "# À faire : Corriger les (3) erreurs ci-dessus"
   ]
  },
  {
   "cell_type": "markdown",
   "metadata": {},
   "source": [
    "\n",
    "#### 3. Erreur de Type (TypeError)\n",
    "\n",
    "**Exemple** : Essayer d'ajouter une chaîne de caractères à un nombre.\n",
    "\n",
    "```python\n",
    "\n",
    "nombre = 5\n",
    "texte = \"Le nombre est: \"\n",
    "print(texte + nombre)  # TypeError: can only concatenate str (not \"int\") to str\n",
    "```\n",
    "\n",
    "---\n",
    "\n",
    "**Exemple** : Utiliser `input()` sans caster en `float` ou `int`.\n",
    "\n",
    "```python\n",
    "\n",
    "valeur = input(\"Entrez un nombre : \")\n",
    "resultat = valeur ** 2\n",
    "print(resultat)\n",
    "```\n",
    "\n",
    "---\n",
    "\n",
    "**Exemple** : Essayer de convertir une chaîne de caractères non numérique en nombre.\n",
    "\n",
    "```python\n",
    "\n",
    "texte = \"dix\"\n",
    "nombre = int(texte)  # ValueError: invalid literal for int() with base 10: 'dix'\n",
    "print(nombre)\n",
    "```"
   ]
  },
  {
   "cell_type": "code",
   "execution_count": 4,
   "metadata": {},
   "outputs": [],
   "source": [
    "# À faire : Corriger les (3) erreurs ci-dessus"
   ]
  },
  {
   "cell_type": "markdown",
   "metadata": {},
   "source": [
    "#### 4. Erreur de Nom (NameError)\n",
    "\n",
    "**Exemple** : Utiliser une variable qui n'a pas été définie.\n",
    "\n",
    "```python\n",
    "\n",
    "print(variable_inexistante)  # NameError: name 'variable_inexistante' is not defined\n",
    "```\n",
    "\n",
    "---\n",
    "\n",
    "**Exemple** : Utiliser une fonction qui n'a pas été définie.\n",
    "\n",
    "```python\n",
    "\n",
    "print(addition(17, 3))  # NameError: name 'est_impair' is not defined\n",
    "```\n"
   ]
  },
  {
   "cell_type": "code",
   "execution_count": 5,
   "metadata": {},
   "outputs": [],
   "source": [
    "# À faire : Corriger les (2) erreur ci-dessus"
   ]
  },
  {
   "cell_type": "markdown",
   "metadata": {},
   "source": [
    "\n",
    "#### 5. Erreur d'Index (IndexError)\n",
    "\n",
    "**Exemple** : Essayer d'accéder à un index qui est hors de la portée de la liste.\n",
    "\n",
    "```python\n",
    "\n",
    "ma_liste = [1, 2, 3]\n",
    "print(ma_liste[5])  # IndexError: list index out of range\n",
    "# Attendu : Accéder au dernier élément\n",
    "```"
   ]
  },
  {
   "cell_type": "code",
   "execution_count": 6,
   "metadata": {},
   "outputs": [],
   "source": [
    "# À faire : Corriger l'erreur ci-dessus"
   ]
  },
  {
   "cell_type": "markdown",
   "metadata": {},
   "source": [
    "\n",
    "#### 6. Erreur de Clé (KeyError)\n",
    "\n",
    "**Exemple** : Essayer d'accéder à une clé qui n'existe pas dans un dictionnaire.\n",
    "\n",
    "```python\n",
    "\n",
    "mon_dictionnaire = {\"nom\": \"Alice\"}\n",
    "print(mon_dictionnaire[\"Nom\"])  # KeyError: 'Nom'\n",
    "```"
   ]
  },
  {
   "cell_type": "code",
   "execution_count": 7,
   "metadata": {},
   "outputs": [],
   "source": [
    "# À faire : Corriger l'erreur ci-dessus"
   ]
  },
  {
   "cell_type": "markdown",
   "metadata": {},
   "source": [
    "\n",
    "#### 7. Boucle Infinie\n",
    "\n",
    "**Exemple** : Oublier d'incrémenter une variable de contrôle dans une boucle `while`.\n",
    "\n",
    "```python\n",
    "\n",
    "i = 0\n",
    "while i < 5:\n",
    "    print(i)\n",
    "```"
   ]
  },
  {
   "cell_type": "code",
   "execution_count": 8,
   "metadata": {},
   "outputs": [],
   "source": [
    "# À faire : Corriger l'erreur ci-dessus"
   ]
  },
  {
   "cell_type": "markdown",
   "metadata": {},
   "source": [
    "#### 8. Erreur d'Indentation\n",
    "\n",
    "**Exemple** : Mauvaise indentation dans une fonction.\n",
    "\n",
    "```python\n",
    "\n",
    "def saluer():\n",
    "print(\"Bonjour\")\n",
    "\n",
    "saluer()\n",
    "```\n",
    "\n",
    "---\n",
    "\n",
    "**Exemple** : Mauvaise indentation dans une boucle `while`.\n",
    "\n",
    "```python\n",
    "\n",
    "i = 0\n",
    "while i < 5:\n",
    "print(i)\n",
    "    i += 1\n",
    "```\n",
    "\n",
    "---\n",
    "\n",
    "**Exemple** : Mauvaise indentation dans un bloc `if/else`.\n",
    "\n",
    "```python\n",
    "\n",
    "x = 10\n",
    "if x > 5:\n",
    "print(\"x est supérieur à 5\")\n",
    "else:\n",
    "print(\"x est inférieur ou égal à 5\")\n",
    "```\n"
   ]
  },
  {
   "cell_type": "code",
   "execution_count": 9,
   "metadata": {},
   "outputs": [],
   "source": [
    "# À faire : Corriger les (3) erreurs ci-dessus"
   ]
  },
  {
   "cell_type": "markdown",
   "metadata": {},
   "source": [
    "#### 9. Erreur Logique\n",
    "\n",
    "**Exemple** : Utiliser une mauvaise condition dans une boucle `for`.\n",
    "\n",
    "```python\n",
    "\n",
    "somme = 0\n",
    "nombres = [1, 2, 3, 4, 5, -1, 10]\n",
    "# Attendu : Si le nombre durant l'itération est négatif, terminer la boucle\n",
    "for nombre in nombres:\n",
    "    somme += nombre\n",
    "    if somme < 0:\n",
    "        break\n",
    "\n",
    "print(\"La somme est:\", somme)  # La somme devrait être: 15\n",
    "```\n"
   ]
  },
  {
   "cell_type": "code",
   "execution_count": 10,
   "metadata": {},
   "outputs": [],
   "source": [
    "# À faire : Corriger l'erreur ci-dessus"
   ]
  },
  {
   "cell_type": "markdown",
   "metadata": {},
   "source": [
    "\n",
    "#### 10. Utilisation Incorrecte de `in` avec des Strings\n",
    "\n",
    "**Exemple** : Vérifier une sous-chaîne dans une liste de chaînes, au lieu de vérifier chaque élément.\n",
    "\n",
    "```python\n",
    "\n",
    "# Chercher si \"on\" est présent dans l'une des 3 chaines\n",
    "mots = [\"bonjour\", \"salut\", \"hello\"]\n",
    "if \"on\" in mots:\n",
    "    print(\"Sous-chaîne trouvée\")\n",
    "else:\n",
    "    print(\"Sous-chaîne non trouvée\")\n",
    "# Attendu : \"on\" est présent dans \"bONjour\"\n",
    "```"
   ]
  },
  {
   "cell_type": "code",
   "execution_count": 11,
   "metadata": {},
   "outputs": [],
   "source": [
    "# À faire : Corriger l'erreur ci-dessus"
   ]
  },
  {
   "cell_type": "markdown",
   "metadata": {},
   "source": []
  }
 ],
 "metadata": {
  "kernelspec": {
   "display_name": "Python 3 (ipykernel)",
   "language": "python",
   "name": "python3"
  },
  "language_info": {
   "codemirror_mode": {
    "name": "ipython",
    "version": 3
   },
   "file_extension": ".py",
   "mimetype": "text/x-python",
   "name": "python",
   "nbconvert_exporter": "python",
   "pygments_lexer": "ipython3",
   "version": "3.11.6"
  }
 },
 "nbformat": 4,
 "nbformat_minor": 4
}
