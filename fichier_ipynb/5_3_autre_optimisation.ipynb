{
 "cells": [
  {
   "cell_type": "code",
   "execution_count": 1,
   "metadata": {},
   "outputs": [],
   "source": [
    "def section(text):\n",
    "    print('\\033[1m{}\\033[0m'.format(text))"
   ]
  },
  {
   "cell_type": "markdown",
   "metadata": {},
   "source": [
    "### Introduction au Code Lent vs Rapide (Optimisation) pour les Très Novices\n",
    "\n",
    "#### Qu'est-ce que le Code Lent et Rapide ?\n",
    "\n",
    "- **Code Lent** : Le code lent prend plus de temps pour s'exécuter. Cela peut être dû à des algorithmes inefficaces, des structures de données inappropriées, ou des opérations répétitives inutiles.\n",
    "- **Code Rapide** : Le code rapide s'exécute plus rapidement, souvent en raison de l'utilisation de meilleures pratiques de programmation, de choix d'algorithmes efficaces, et d'optimisations de code.\n",
    "\n",
    "#### Facteurs qui Rendent le Code Lent\n",
    "\n",
    "1. **Algorithmes Inefficaces** : L'utilisation d'algorithmes qui ont des complexités temporelles élevées (comme O(n^2) au lieu de O(n log n)) peut ralentir considérablement le code.\n",
    "2. **Boucles Inutiles** : Répéter des opérations dans des boucles alors qu'elles pourraient être effectuées en dehors ou optimisées.\n",
    "3. **Structures de Données Inappropriées** : Utiliser des structures de données qui ne sont pas adaptées aux besoins spécifiques peut entraîner des temps de traitement plus longs.\n",
    "4. **Accès Fréquent aux Disques ou Réseaux** : Les opérations de lecture/écriture sur disque ou les appels réseau peuvent être très lents comparés aux opérations en mémoire.\n",
    "5. **Fonctions Répétitives** : Appeler des fonctions coûteuses à répétition au lieu de stocker les résultats lorsque cela est possible."
   ]
  },
  {
   "cell_type": "code",
   "execution_count": 2,
   "metadata": {},
   "outputs": [
    {
     "name": "stdout",
     "output_type": "stream",
     "text": [
      "\u001b[1mBoucle Inefficace\u001b[0m\n",
      "499500 Calculé en: 0.1251697540283203ms\n",
      "499500 Calculé en: 0.08177757263183594ms\n"
     ]
    }
   ],
   "source": [
    "section('Boucle Inefficace')\n",
    "from time import time\n",
    "\n",
    "def somme_lente(liste):\n",
    "    somme = 0\n",
    "    for element in liste:\n",
    "        somme += element\n",
    "    return somme\n",
    "\n",
    "timer = time()\n",
    "ma_liste = range(1000)\n",
    "print(somme_lente(ma_liste),\n",
    "      'Calculé en: {}ms'.format((time() - timer) * 1000))\n",
    "\n",
    "\n",
    "def somme_rapide(liste):\n",
    "    return sum(liste) # Il existe souvent des fonctions qui font le travail pour nous\n",
    "\n",
    "timer = time()\n",
    "ma_liste = range(1000)\n",
    "print(somme_lente(ma_liste),\n",
    "      'Calculé en: {}ms'.format((time() - timer) * 1000))\n",
    "\n",
    "# Est-ce plus rapide ?"
   ]
  },
  {
   "cell_type": "code",
   "execution_count": 3,
   "metadata": {},
   "outputs": [
    {
     "name": "stdout",
     "output_type": "stream",
     "text": [
      "\u001b[1mRecherche dans une Liste vs Set\u001b[0m\n",
      "True Calculé en: 0.05412101745605469ms\n",
      "True Calculé en: 0.019788742065429688ms\n"
     ]
    }
   ],
   "source": [
    "section('Recherche dans une Liste vs Set')\n",
    "\n",
    "def element_present_lent(liste, element):\n",
    "    return element in liste\n",
    "\n",
    "ma_liste = [i for i in range(100000)]\n",
    "timer = time()\n",
    "print(element_present_lent(ma_liste, 9999),\n",
    "      'Calculé en: {}ms'.format((time() - timer) * 1000))\n",
    "\n",
    "def element_present_rapide(ensemble, element):\n",
    "    return element in ensemble\n",
    "\n",
    "mon_ensemble = {i for i in range(100000)}\n",
    "timer = time()\n",
    "print(element_present_rapide(mon_ensemble, 9999),\n",
    "      'Calculé en: {}ms'.format((time() - timer) * 1000))\n",
    "\n",
    "# À faire : Essayer de trouver l'élément 9, 99, 999, 9999, 99999\n",
    "# Quel est le comportement, et pourquoi ?\n"
   ]
  },
  {
   "cell_type": "code",
   "execution_count": 4,
   "metadata": {},
   "outputs": [
    {
     "name": "stdout",
     "output_type": "stream",
     "text": [
      "\u001b[1mOptimisation de calcul\u001b[0m\n",
      "False Calculé en: 1083.3194255828857ms\n",
      "False Calculé en: 0.09942054748535156ms\n",
      "False Calculé en: 0.01621246337890625ms\n"
     ]
    }
   ],
   "source": [
    "section('Optimisation de calcul')\n",
    "\n",
    "from time import time\n",
    "\n",
    "# Fonction extrement simple testant 100% des chiffres\n",
    "def is_prime_1(x):\n",
    "    is_prime = True\n",
    "    for i in range(2, x-1):\n",
    "        if x % i == 0:\n",
    "            is_prime = False\n",
    "    return is_prime\n",
    "\n",
    "# Fonction testant 100% des chiffres jusqu'à la racine carré\n",
    "def is_prime_2(x):\n",
    "    is_prime = True\n",
    "    for i in range(3, int(x**0.5) + 1, 2):\n",
    "        if x % i == 0:\n",
    "            is_prime = False\n",
    "    return is_prime\n",
    "\n",
    "# Fonction testant les chiffres jusqu'au premier contre-exemple\n",
    "def is_prime_3(x):\n",
    "    if x == 2 or x == 3:\n",
    "        return True\n",
    "    if x % 2 == 0 or x < 2:\n",
    "        return False\n",
    "\n",
    "    for i in range(3, int(x**0.5) + 1, 2):\n",
    "        if x % i == 0:\n",
    "            return False\n",
    "    return True\n",
    "\n",
    "# À faire : Tester 65345941, pourquoi le #3 est maintenant plus lent ?\n",
    "timer = time()\n",
    "print(is_prime_1(65345940),\n",
    "      'Calculé en: {}ms'.format((time() - timer) * 1000))\n",
    "\n",
    "timer = time()\n",
    "print(is_prime_2(65345940),\n",
    "      'Calculé en: {}ms'.format((time() - timer) * 1000))\n",
    "\n",
    "timer = time()\n",
    "print(is_prime_3(65345940),\n",
    "      'Calculé en: {}ms'.format((time() - timer) * 1000))"
   ]
  },
  {
   "cell_type": "code",
   "execution_count": 5,
   "metadata": {},
   "outputs": [
    {
     "name": "stdout",
     "output_type": "stream",
     "text": [
      "\u001b[1mFonction définie par les utilisateurs vs built-in\u001b[0m\n",
      "14 14 14\n",
      "[(1, 'Lucie', -2500), (12, 'Kevin', -10000), (15, 'Dave', 35000), (18, 'Violette', 500000), (21, 'Mike', -25000), (25, 'Rose', 10000), (30, 'Steve', 0), (36, 'Julie', 0), (45, 'Arthur', 1000), (54, 'Sarah', 1900050), (65, 'Marie', -156547), (75, 'Blanche', 20000), (85, 'Roger', -6236987), (90, 'Ginette', -50000)]\n",
      "[(1, 'Lucie', -2500), (12, 'Kevin', -10000), (15, 'Dave', 35000), (18, 'Violette', 500000), (21, 'Mike', -25000), (25, 'Rose', 10000), (30, 'Steve', 0), (36, 'Julie', 0), (45, 'Arthur', 1000), (54, 'Sarah', 1900050), (65, 'Marie', -156547), (75, 'Blanche', 20000), (85, 'Roger', -6236987), (90, 'Ginette', -50000)]\n"
     ]
    }
   ],
   "source": [
    "section('Fonction définie par les utilisateurs vs built-in')\n",
    "\n",
    "import random\n",
    "from time import time\n",
    "\n",
    "# Génération des données\n",
    "ages = [1, 12, 15, 18, 21, 25, 30, 36, 45, 54, 65, 75, 85, 90]\n",
    "names = ['Dave', 'Mike', 'Steve', 'Kevin', 'Roger', 'Blanche',\n",
    "         'Rose', 'Violette', 'Ginette', 'Sarah', 'Julie', 'Arthur',\n",
    "         'Lucie', 'Marie']\n",
    "wealth = [10000, -10000, 20000, -25000, 35000, -50000, 0, 0, 1000,\n",
    "          -2500, 500000, 1900050, -156547, -6236987]\n",
    "\n",
    "print(len(ages), len(names), len(wealth))\n",
    "random.seed(0) #\n",
    "random.shuffle(ages)\n",
    "random.shuffle(names)\n",
    "random.shuffle(wealth)\n",
    "attributes = zip(ages, names, wealth)\n",
    "# À faire : Pouvez-vous trouver (en ligne) ce que zip() fait\n",
    "\n",
    "def sort_att(ma_liste, att=0, inverse=False):\n",
    "    \"\"\"\n",
    "    ma_liste : séquence en entrée (type: liste)\n",
    "    att : attribut sur lequel sera faite le triage\n",
    "    inverse : Inverser le triage\n",
    "    \"\"\"\n",
    "    ma_liste = list(ma_liste)\n",
    "    \n",
    "    # À faire : Êtes-vous capable de comprendre ce que ce code fait ?\n",
    "    # En lisant une ligne à la fois, êtes-vous capable de suivre le déroulement ?\n",
    "    ordered_lst = []\n",
    "    while len(ordered_lst) < len(ma_liste):\n",
    "        min_val = 9999999999\n",
    "        min_pos = 0\n",
    "        for pos, val in enumerate(ma_liste):\n",
    "            if val[att] < min_val and val not in ordered_lst:\n",
    "                min_pos = pos\n",
    "                min_val = val[att]\n",
    "        ordered_lst.append(ma_liste[min_pos])\n",
    "    \n",
    "    # Quel est le résultat de cette fonction ?\n",
    "    return ordered_lst[::-1] if inverse else ordered_lst\n",
    "\n",
    "# À faire : Essayer les paramètres optionels\n",
    "timer = time()\n",
    "resultat_1 = sort_att(attributes)\n",
    "print(resultat_1)\n",
    "\n",
    "# Il s'agit pas vraiment d'une optimisation du temps de calcul, mais de VOTRE temps\n",
    "# Beaucoup de fonction existe déjà en Python, il faut vérifier ce qui existe déjà\n",
    "# avant de re-faire une fonction complexe !\n",
    "from operator import itemgetter\n",
    "attributes = zip(ages, names, wealth)\n",
    "timer = time()\n",
    "resultat_2 = list(sorted(attributes, key=itemgetter(0), reverse=False))\n",
    "print(resultat_2)\n",
    "\n",
    "# À faire : Vérifier que resultat_1 et resultat_2 sont identique\n",
    "# À faire : Comparer la vitesse d'exécution entre ma fonction et la fonction built-in"
   ]
  }
 ],
 "metadata": {
  "kernelspec": {
   "display_name": "Python 3 (ipykernel)",
   "language": "python",
   "name": "python3"
  },
  "language_info": {
   "codemirror_mode": {
    "name": "ipython",
    "version": 3
   },
   "file_extension": ".py",
   "mimetype": "text/x-python",
   "name": "python",
   "nbconvert_exporter": "python",
   "pygments_lexer": "ipython3",
   "version": "3.11.6"
  }
 },
 "nbformat": 4,
 "nbformat_minor": 4
}
